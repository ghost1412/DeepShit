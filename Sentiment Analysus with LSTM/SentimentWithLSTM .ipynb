{
 "cells": [
  {
   "cell_type": "markdown",
   "metadata": {},
   "source": [
    "# Sentiment Classification Using Deep Learning\n",
    "### Submited By: Ashutosh Jatav [B16CS004]; Sanchit Taliyan [B16CS031] "
   ]
  },
  {
   "cell_type": "markdown",
   "metadata": {},
   "source": [
    "### Loading Input Data"
   ]
  },
  {
   "cell_type": "code",
   "execution_count": 1,
   "metadata": {},
   "outputs": [
    {
     "name": "stdout",
     "output_type": "stream",
     "text": [
      "/media/ghost/New Volume/dataset/sentiment-labelled-sentences-data-set/sentiment labelled sentences/amazon_cells_labelled.csv\n",
      "/media/ghost/New Volume/dataset/sentiment-labelled-sentences-data-set/sentiment labelled sentences/amazon_cells_labelled.txt\n",
      "/media/ghost/New Volume/dataset/sentiment-labelled-sentences-data-set/sentiment labelled sentences/imdb_labelled.csv\n",
      "/media/ghost/New Volume/dataset/sentiment-labelled-sentences-data-set/sentiment labelled sentences/imdb_labelled.txt\n",
      "/media/ghost/New Volume/dataset/sentiment-labelled-sentences-data-set/sentiment labelled sentences/readme.txt\n",
      "/media/ghost/New Volume/dataset/sentiment-labelled-sentences-data-set/sentiment labelled sentences/yelp_labelled.csv\n",
      "/media/ghost/New Volume/dataset/sentiment-labelled-sentences-data-set/sentiment labelled sentences/yelp_labelled.txt\n",
      "/media/ghost/New Volume/dataset/sentiment-labelled-sentences-data-set/sentiment labelled sentences/sentiment labelled sentences/amazon_cells_labelled.csv\n",
      "/media/ghost/New Volume/dataset/sentiment-labelled-sentences-data-set/sentiment labelled sentences/sentiment labelled sentences/amazon_cells_labelled.txt\n",
      "/media/ghost/New Volume/dataset/sentiment-labelled-sentences-data-set/sentiment labelled sentences/sentiment labelled sentences/imdb_labelled.csv\n",
      "/media/ghost/New Volume/dataset/sentiment-labelled-sentences-data-set/sentiment labelled sentences/sentiment labelled sentences/imdb_labelled.txt\n",
      "/media/ghost/New Volume/dataset/sentiment-labelled-sentences-data-set/sentiment labelled sentences/sentiment labelled sentences/readme.txt\n",
      "/media/ghost/New Volume/dataset/sentiment-labelled-sentences-data-set/sentiment labelled sentences/sentiment labelled sentences/yelp_labelled.csv\n",
      "/media/ghost/New Volume/dataset/sentiment-labelled-sentences-data-set/sentiment labelled sentences/sentiment labelled sentences/yelp_labelled.txt\n"
     ]
    }
   ],
   "source": [
    "import numpy as np # linear algebra\n",
    "import pandas as pd # data processing, CSV file I/O (e.g. pd.read_csv)\n",
    "import tensorflow as tf\n",
    "# Input data files are available in the \"../input/\" directory.\n",
    "# For example, running this (by clicking run or pressing Shift+Enter) will list all files under the input directory\n",
    "\n",
    "import os\n",
    "for dirname, _, filenames in os.walk('/media/ghost/New Volume/dataset/sentiment-labelled-sentences-data-set/sentiment labelled sentences'):\n",
    "    for filename in filenames:\n",
    "        print(os.path.join(dirname, filename))\n"
   ]
  },
  {
   "cell_type": "code",
   "execution_count": 2,
   "metadata": {},
   "outputs": [],
   "source": [
    "amazon_df=pd.read_csv(\"/media/ghost/New Volume/dataset/sentiment-labelled-sentences-data-set/sentiment labelled sentences/amazon_cells_labelled.txt\",delimiter='\\t',\n",
    "                        header=None, \n",
    "                        names=['review', 'sentiment'])\n",
    "\n",
    "imdb_df = pd.read_csv(\"/media/ghost/New Volume/dataset/sentiment-labelled-sentences-data-set/sentiment labelled sentences/imdb_labelled.txt\", \n",
    "                        delimiter='\\t', \n",
    "                        header=None, \n",
    "                        names=['review', 'sentiment'])\n",
    "\n",
    "yelp_df = pd.read_csv(\"/media/ghost/New Volume/dataset/sentiment-labelled-sentences-data-set/sentiment labelled sentences/yelp_labelled.txt\", \n",
    "                        delimiter='\\t', \n",
    "                        header=None, \n",
    "                        names=['review', 'sentiment'])\n"
   ]
  },
  {
   "cell_type": "code",
   "execution_count": 3,
   "metadata": {},
   "outputs": [],
   "source": [
    "amazon_df.head()\n",
    "import pandas"
   ]
  },
  {
   "cell_type": "code",
   "execution_count": 4,
   "metadata": {},
   "outputs": [
    {
     "data": {
      "text/html": [
       "<div>\n",
       "<style scoped>\n",
       "    .dataframe tbody tr th:only-of-type {\n",
       "        vertical-align: middle;\n",
       "    }\n",
       "\n",
       "    .dataframe tbody tr th {\n",
       "        vertical-align: top;\n",
       "    }\n",
       "\n",
       "    .dataframe thead th {\n",
       "        text-align: right;\n",
       "    }\n",
       "</style>\n",
       "<table border=\"1\" class=\"dataframe\">\n",
       "  <thead>\n",
       "    <tr style=\"text-align: right;\">\n",
       "      <th></th>\n",
       "      <th>review</th>\n",
       "      <th>sentiment</th>\n",
       "    </tr>\n",
       "  </thead>\n",
       "  <tbody>\n",
       "    <tr>\n",
       "      <th>0</th>\n",
       "      <td>A very, very, very slow-moving, aimless movie ...</td>\n",
       "      <td>0</td>\n",
       "    </tr>\n",
       "    <tr>\n",
       "      <th>1</th>\n",
       "      <td>Not sure who was more lost - the flat characte...</td>\n",
       "      <td>0</td>\n",
       "    </tr>\n",
       "    <tr>\n",
       "      <th>2</th>\n",
       "      <td>Attempting artiness with black &amp; white and cle...</td>\n",
       "      <td>0</td>\n",
       "    </tr>\n",
       "    <tr>\n",
       "      <th>3</th>\n",
       "      <td>Very little music or anything to speak of.</td>\n",
       "      <td>0</td>\n",
       "    </tr>\n",
       "    <tr>\n",
       "      <th>4</th>\n",
       "      <td>The best scene in the movie was when Gerardo i...</td>\n",
       "      <td>1</td>\n",
       "    </tr>\n",
       "  </tbody>\n",
       "</table>\n",
       "</div>"
      ],
      "text/plain": [
       "                                              review  sentiment\n",
       "0  A very, very, very slow-moving, aimless movie ...          0\n",
       "1  Not sure who was more lost - the flat characte...          0\n",
       "2  Attempting artiness with black & white and cle...          0\n",
       "3       Very little music or anything to speak of.            0\n",
       "4  The best scene in the movie was when Gerardo i...          1"
      ]
     },
     "execution_count": 4,
     "metadata": {},
     "output_type": "execute_result"
    }
   ],
   "source": [
    "imdb_df.head()"
   ]
  },
  {
   "cell_type": "code",
   "execution_count": 5,
   "metadata": {},
   "outputs": [
    {
     "data": {
      "text/html": [
       "<div>\n",
       "<style scoped>\n",
       "    .dataframe tbody tr th:only-of-type {\n",
       "        vertical-align: middle;\n",
       "    }\n",
       "\n",
       "    .dataframe tbody tr th {\n",
       "        vertical-align: top;\n",
       "    }\n",
       "\n",
       "    .dataframe thead th {\n",
       "        text-align: right;\n",
       "    }\n",
       "</style>\n",
       "<table border=\"1\" class=\"dataframe\">\n",
       "  <thead>\n",
       "    <tr style=\"text-align: right;\">\n",
       "      <th></th>\n",
       "      <th>review</th>\n",
       "      <th>sentiment</th>\n",
       "    </tr>\n",
       "  </thead>\n",
       "  <tbody>\n",
       "    <tr>\n",
       "      <th>0</th>\n",
       "      <td>Wow... Loved this place.</td>\n",
       "      <td>1</td>\n",
       "    </tr>\n",
       "    <tr>\n",
       "      <th>1</th>\n",
       "      <td>Crust is not good.</td>\n",
       "      <td>0</td>\n",
       "    </tr>\n",
       "    <tr>\n",
       "      <th>2</th>\n",
       "      <td>Not tasty and the texture was just nasty.</td>\n",
       "      <td>0</td>\n",
       "    </tr>\n",
       "    <tr>\n",
       "      <th>3</th>\n",
       "      <td>Stopped by during the late May bank holiday of...</td>\n",
       "      <td>1</td>\n",
       "    </tr>\n",
       "    <tr>\n",
       "      <th>4</th>\n",
       "      <td>The selection on the menu was great and so wer...</td>\n",
       "      <td>1</td>\n",
       "    </tr>\n",
       "  </tbody>\n",
       "</table>\n",
       "</div>"
      ],
      "text/plain": [
       "                                              review  sentiment\n",
       "0                           Wow... Loved this place.          1\n",
       "1                                 Crust is not good.          0\n",
       "2          Not tasty and the texture was just nasty.          0\n",
       "3  Stopped by during the late May bank holiday of...          1\n",
       "4  The selection on the menu was great and so wer...          1"
      ]
     },
     "execution_count": 5,
     "metadata": {},
     "output_type": "execute_result"
    }
   ],
   "source": [
    "yelp_df.head()"
   ]
  },
  {
   "cell_type": "markdown",
   "metadata": {},
   "source": [
    "### Required Dependencies"
   ]
  },
  {
   "cell_type": "code",
   "execution_count": 6,
   "metadata": {},
   "outputs": [],
   "source": [
    "import sys\n",
    "from tensorflow.python.keras.layers import Layer\n",
    "from tensorflow.keras import backend as K\n",
    "#from keras import initializations\n",
    "from tensorflow.keras import initializers, regularizers, constraints\n",
    "from sklearn.metrics import roc_auc_score\n",
    "from sklearn.model_selection import train_test_split\n",
    "from sklearn.feature_extraction.text import CountVectorizer\n",
    "from sklearn.model_selection import train_test_split\n",
    "from sklearn.linear_model import LogisticRegression\n",
    "from sklearn.preprocessing import LabelEncoder\n",
    "from sklearn.preprocessing import OneHotEncoder\n",
    "from sklearn.model_selection import RandomizedSearchCV\n",
    "from tensorflow.keras.layers import Dense, Input, LSTM, Embedding, Dropout, Activation, Bidirectional\n"
   ]
  },
  {
   "cell_type": "markdown",
   "metadata": {},
   "source": [
    "### Attention Layer"
   ]
  },
  {
   "cell_type": "code",
   "execution_count": 7,
   "metadata": {},
   "outputs": [],
   "source": [
    "def dot_product(x, kernel):\n",
    "\n",
    "    if K.backend() == 'tensorflow':\n",
    "        return K.squeeze(K.dot(x, K.expand_dims(kernel)), axis=-1)\n",
    "    else:\n",
    "        return K.dot(x, kernel)\n",
    "    \n",
    "\n",
    "class AttentionWithContext(Layer):\n",
    "    def __init__(self,\n",
    "                 W_regularizer=None, u_regularizer=None, b_regularizer=None,\n",
    "                 W_constraint=None, u_constraint=None, b_constraint=None,\n",
    "                 bias=True, **kwargs):\n",
    "\n",
    "        self.supports_masking = True\n",
    "        self.init = initializers.get('glorot_uniform')\n",
    "\n",
    "        self.W_regularizer = regularizers.get(W_regularizer)\n",
    "        self.u_regularizer = regularizers.get(u_regularizer)\n",
    "        self.b_regularizer = regularizers.get(b_regularizer)\n",
    "\n",
    "        self.W_constraint = constraints.get(W_constraint)\n",
    "        self.u_constraint = constraints.get(u_constraint)\n",
    "        self.b_constraint = constraints.get(b_constraint)\n",
    "        super(AttentionWithContext, self).__init__(**kwargs)\n",
    "\n",
    "        self.bias = bias\n",
    "\n",
    "    def build(self, input_shape):\n",
    "        print(input_shape)\n",
    "        assert len(input_shape) == 3\n",
    "\n",
    "        self.W = self.add_weight(shape=(input_shape[-1], input_shape[-1],),\n",
    "                                 initializer=self.init,\n",
    "                                 name='{}_W'.format(self.name),\n",
    "                                 regularizer=self.W_regularizer,\n",
    "                                 constraint=self.W_constraint)\n",
    "        if self.bias:\n",
    "            self.b = self.add_weight(shape=(input_shape[-1],),\n",
    "                                     initializer='zero',\n",
    "                                     name='{}_b'.format(self.name),\n",
    "                                     regularizer=self.b_regularizer,\n",
    "                                     constraint=self.b_constraint)\n",
    "\n",
    "        self.u = self.add_weight(shape=(input_shape[-1],),\n",
    "                                 initializer=self.init,\n",
    "                                 name='{}_u'.format(self.name),\n",
    "                                 regularizer=self.u_regularizer,\n",
    "                                 constraint=self.u_constraint)\n",
    "\n",
    "        super(AttentionWithContext, self).build(input_shape)\n",
    "\n",
    "    def compute_mask(self, input, input_mask=None):\n",
    "        # do not pass the mask to the next layers\n",
    "        return None\n",
    "\n",
    "    def call(self, x, mask=None):\n",
    "        uit = dot_product(x, self.W)\n",
    "\n",
    "        if self.bias:\n",
    "            uit += self.b\n",
    "\n",
    "        uit = K.tanh(uit)\n",
    "        ait = dot_product(uit, self.u)\n",
    "\n",
    "        a = K.exp(ait)\n",
    "\n",
    "        # apply mask after the exp. will be re-normalized next\n",
    "        if mask is not None:\n",
    "            # Cast the mask to floatX to avoid float64 upcasting in theano\n",
    "            a *= K.cast(mask, K.floatx())\n",
    "\n",
    "        # in some cases especially in the early stages of training the sum may be almost zero\n",
    "        # and this results in NaN's. A workaround is to add a very small positive number ε to the sum.\n",
    "        # a /= K.cast(K.sum(a, axis=1, keepdims=True), K.floatx())\n",
    "        a /= K.cast(K.sum(a, axis=1, keepdims=True) + K.epsilon(), K.floatx())\n",
    "\n",
    "        a = K.expand_dims(a)\n",
    "        weighted_input = x * a\n",
    "        return K.sum(weighted_input, axis=1)\n",
    "\n",
    "    def compute_output_shape(self, input_shape):\n",
    "        return input_shape[0], input_shape[-1]"
   ]
  },
  {
   "cell_type": "code",
   "execution_count": 8,
   "metadata": {},
   "outputs": [],
   "source": [
    "data=pd.concat([amazon_df,yelp_df,imdb_df])"
   ]
  },
  {
   "cell_type": "code",
   "execution_count": 9,
   "metadata": {},
   "outputs": [],
   "source": [
    "data.reset_index(drop='True',inplace=True)"
   ]
  },
  {
   "cell_type": "code",
   "execution_count": 10,
   "metadata": {},
   "outputs": [
    {
     "data": {
      "text/html": [
       "<div>\n",
       "<style scoped>\n",
       "    .dataframe tbody tr th:only-of-type {\n",
       "        vertical-align: middle;\n",
       "    }\n",
       "\n",
       "    .dataframe tbody tr th {\n",
       "        vertical-align: top;\n",
       "    }\n",
       "\n",
       "    .dataframe thead th {\n",
       "        text-align: right;\n",
       "    }\n",
       "</style>\n",
       "<table border=\"1\" class=\"dataframe\">\n",
       "  <thead>\n",
       "    <tr style=\"text-align: right;\">\n",
       "      <th></th>\n",
       "      <th>review</th>\n",
       "      <th>sentiment</th>\n",
       "    </tr>\n",
       "  </thead>\n",
       "  <tbody>\n",
       "    <tr>\n",
       "      <th>0</th>\n",
       "      <td>So there is no way for me to plug it in here i...</td>\n",
       "      <td>0</td>\n",
       "    </tr>\n",
       "    <tr>\n",
       "      <th>1</th>\n",
       "      <td>Good case, Excellent value.</td>\n",
       "      <td>1</td>\n",
       "    </tr>\n",
       "    <tr>\n",
       "      <th>2</th>\n",
       "      <td>Great for the jawbone.</td>\n",
       "      <td>1</td>\n",
       "    </tr>\n",
       "    <tr>\n",
       "      <th>3</th>\n",
       "      <td>Tied to charger for conversations lasting more...</td>\n",
       "      <td>0</td>\n",
       "    </tr>\n",
       "    <tr>\n",
       "      <th>4</th>\n",
       "      <td>The mic is great.</td>\n",
       "      <td>1</td>\n",
       "    </tr>\n",
       "    <tr>\n",
       "      <th>5</th>\n",
       "      <td>I have to jiggle the plug to get it to line up...</td>\n",
       "      <td>0</td>\n",
       "    </tr>\n",
       "    <tr>\n",
       "      <th>6</th>\n",
       "      <td>If you have several dozen or several hundred c...</td>\n",
       "      <td>0</td>\n",
       "    </tr>\n",
       "    <tr>\n",
       "      <th>7</th>\n",
       "      <td>If you are Razr owner...you must have this!</td>\n",
       "      <td>1</td>\n",
       "    </tr>\n",
       "    <tr>\n",
       "      <th>8</th>\n",
       "      <td>Needless to say, I wasted my money.</td>\n",
       "      <td>0</td>\n",
       "    </tr>\n",
       "    <tr>\n",
       "      <th>9</th>\n",
       "      <td>What a waste of money and time!.</td>\n",
       "      <td>0</td>\n",
       "    </tr>\n",
       "    <tr>\n",
       "      <th>10</th>\n",
       "      <td>And the sound quality is great.</td>\n",
       "      <td>1</td>\n",
       "    </tr>\n",
       "    <tr>\n",
       "      <th>11</th>\n",
       "      <td>He was very impressed when going from the orig...</td>\n",
       "      <td>1</td>\n",
       "    </tr>\n",
       "    <tr>\n",
       "      <th>12</th>\n",
       "      <td>If the two were seperated by a mere 5+ ft I st...</td>\n",
       "      <td>0</td>\n",
       "    </tr>\n",
       "    <tr>\n",
       "      <th>13</th>\n",
       "      <td>Very good quality though</td>\n",
       "      <td>1</td>\n",
       "    </tr>\n",
       "    <tr>\n",
       "      <th>14</th>\n",
       "      <td>The design is very odd, as the ear \"clip\" is n...</td>\n",
       "      <td>0</td>\n",
       "    </tr>\n",
       "    <tr>\n",
       "      <th>15</th>\n",
       "      <td>Highly recommend for any one who has a blue to...</td>\n",
       "      <td>1</td>\n",
       "    </tr>\n",
       "    <tr>\n",
       "      <th>16</th>\n",
       "      <td>I advise EVERYONE DO NOT BE FOOLED!</td>\n",
       "      <td>0</td>\n",
       "    </tr>\n",
       "    <tr>\n",
       "      <th>17</th>\n",
       "      <td>So Far So Good!.</td>\n",
       "      <td>1</td>\n",
       "    </tr>\n",
       "    <tr>\n",
       "      <th>18</th>\n",
       "      <td>Works great!.</td>\n",
       "      <td>1</td>\n",
       "    </tr>\n",
       "    <tr>\n",
       "      <th>19</th>\n",
       "      <td>It clicks into place in a way that makes you w...</td>\n",
       "      <td>0</td>\n",
       "    </tr>\n",
       "    <tr>\n",
       "      <th>20</th>\n",
       "      <td>I went on Motorola's website and followed all ...</td>\n",
       "      <td>0</td>\n",
       "    </tr>\n",
       "    <tr>\n",
       "      <th>21</th>\n",
       "      <td>I bought this to use with my Kindle Fire and a...</td>\n",
       "      <td>1</td>\n",
       "    </tr>\n",
       "    <tr>\n",
       "      <th>22</th>\n",
       "      <td>The commercials are the most misleading.</td>\n",
       "      <td>0</td>\n",
       "    </tr>\n",
       "    <tr>\n",
       "      <th>23</th>\n",
       "      <td>I have yet to run this new battery below two b...</td>\n",
       "      <td>1</td>\n",
       "    </tr>\n",
       "    <tr>\n",
       "      <th>24</th>\n",
       "      <td>I bought it for my mother and she had a proble...</td>\n",
       "      <td>0</td>\n",
       "    </tr>\n",
       "    <tr>\n",
       "      <th>25</th>\n",
       "      <td>Great Pocket PC / phone combination.</td>\n",
       "      <td>1</td>\n",
       "    </tr>\n",
       "    <tr>\n",
       "      <th>26</th>\n",
       "      <td>I've owned this phone for 7 months now and can...</td>\n",
       "      <td>1</td>\n",
       "    </tr>\n",
       "    <tr>\n",
       "      <th>27</th>\n",
       "      <td>I didn't think that the instructions provided ...</td>\n",
       "      <td>0</td>\n",
       "    </tr>\n",
       "    <tr>\n",
       "      <th>28</th>\n",
       "      <td>People couldnt hear me talk and I had to pull ...</td>\n",
       "      <td>0</td>\n",
       "    </tr>\n",
       "    <tr>\n",
       "      <th>29</th>\n",
       "      <td>Doesn't hold charge.</td>\n",
       "      <td>0</td>\n",
       "    </tr>\n",
       "    <tr>\n",
       "      <th>...</th>\n",
       "      <td>...</td>\n",
       "      <td>...</td>\n",
       "    </tr>\n",
       "    <tr>\n",
       "      <th>2718</th>\n",
       "      <td>Enough can not be said of the remarkable anima...</td>\n",
       "      <td>1</td>\n",
       "    </tr>\n",
       "    <tr>\n",
       "      <th>2719</th>\n",
       "      <td>The art style has the appearance of crayon/pen...</td>\n",
       "      <td>1</td>\n",
       "    </tr>\n",
       "    <tr>\n",
       "      <th>2720</th>\n",
       "      <td>If you act in such a film, you should be glad ...</td>\n",
       "      <td>0</td>\n",
       "    </tr>\n",
       "    <tr>\n",
       "      <th>2721</th>\n",
       "      <td>This one wants to surf on the small wave of sp...</td>\n",
       "      <td>0</td>\n",
       "    </tr>\n",
       "    <tr>\n",
       "      <th>2722</th>\n",
       "      <td>If you haven't choked in your own vomit by the...</td>\n",
       "      <td>0</td>\n",
       "    </tr>\n",
       "    <tr>\n",
       "      <th>2723</th>\n",
       "      <td>Still, it makes up for all of this with a supe...</td>\n",
       "      <td>1</td>\n",
       "    </tr>\n",
       "    <tr>\n",
       "      <th>2724</th>\n",
       "      <td>Just consider the excellent story, solid actin...</td>\n",
       "      <td>1</td>\n",
       "    </tr>\n",
       "    <tr>\n",
       "      <th>2725</th>\n",
       "      <td>Instead, we got a bore fest about a whiny, spo...</td>\n",
       "      <td>0</td>\n",
       "    </tr>\n",
       "    <tr>\n",
       "      <th>2726</th>\n",
       "      <td>Then I watched it again two Sundays ago (March...</td>\n",
       "      <td>1</td>\n",
       "    </tr>\n",
       "    <tr>\n",
       "      <th>2727</th>\n",
       "      <td>It is a very well acted and done TV Movie.</td>\n",
       "      <td>1</td>\n",
       "    </tr>\n",
       "    <tr>\n",
       "      <th>2728</th>\n",
       "      <td>Judith Light is one of my favorite actresses a...</td>\n",
       "      <td>1</td>\n",
       "    </tr>\n",
       "    <tr>\n",
       "      <th>2729</th>\n",
       "      <td>I keep watching it over and over.</td>\n",
       "      <td>1</td>\n",
       "    </tr>\n",
       "    <tr>\n",
       "      <th>2730</th>\n",
       "      <td>It's a sad movie, but very good.</td>\n",
       "      <td>1</td>\n",
       "    </tr>\n",
       "    <tr>\n",
       "      <th>2731</th>\n",
       "      <td>If you have not seen this movie, I definitely ...</td>\n",
       "      <td>1</td>\n",
       "    </tr>\n",
       "    <tr>\n",
       "      <th>2732</th>\n",
       "      <td>She is as lovely as usual, this cutie!</td>\n",
       "      <td>1</td>\n",
       "    </tr>\n",
       "    <tr>\n",
       "      <th>2733</th>\n",
       "      <td>Still it's quite interesting and entertaining ...</td>\n",
       "      <td>1</td>\n",
       "    </tr>\n",
       "    <tr>\n",
       "      <th>2734</th>\n",
       "      <td>;) Recommend with confidence!</td>\n",
       "      <td>1</td>\n",
       "    </tr>\n",
       "    <tr>\n",
       "      <th>2735</th>\n",
       "      <td>This movie is well-balanced with comedy and dr...</td>\n",
       "      <td>1</td>\n",
       "    </tr>\n",
       "    <tr>\n",
       "      <th>2736</th>\n",
       "      <td>It was a riot to see Hugo Weaving play a sex-o...</td>\n",
       "      <td>1</td>\n",
       "    </tr>\n",
       "    <tr>\n",
       "      <th>2737</th>\n",
       "      <td>:) Anyway, the plot flowed smoothly and the ma...</td>\n",
       "      <td>1</td>\n",
       "    </tr>\n",
       "    <tr>\n",
       "      <th>2738</th>\n",
       "      <td>The opening sequence of this gem is a classic,...</td>\n",
       "      <td>1</td>\n",
       "    </tr>\n",
       "    <tr>\n",
       "      <th>2739</th>\n",
       "      <td>Fans of the genre will be in heaven.</td>\n",
       "      <td>1</td>\n",
       "    </tr>\n",
       "    <tr>\n",
       "      <th>2740</th>\n",
       "      <td>Lange had become a great actress.</td>\n",
       "      <td>1</td>\n",
       "    </tr>\n",
       "    <tr>\n",
       "      <th>2741</th>\n",
       "      <td>It looked like a wonderful story.</td>\n",
       "      <td>1</td>\n",
       "    </tr>\n",
       "    <tr>\n",
       "      <th>2742</th>\n",
       "      <td>I never walked out of a movie faster.</td>\n",
       "      <td>0</td>\n",
       "    </tr>\n",
       "    <tr>\n",
       "      <th>2743</th>\n",
       "      <td>I just got bored watching Jessice Lange take h...</td>\n",
       "      <td>0</td>\n",
       "    </tr>\n",
       "    <tr>\n",
       "      <th>2744</th>\n",
       "      <td>Unfortunately, any virtue in this film's produ...</td>\n",
       "      <td>0</td>\n",
       "    </tr>\n",
       "    <tr>\n",
       "      <th>2745</th>\n",
       "      <td>In a word, it is embarrassing.</td>\n",
       "      <td>0</td>\n",
       "    </tr>\n",
       "    <tr>\n",
       "      <th>2746</th>\n",
       "      <td>Exceptionally bad!</td>\n",
       "      <td>0</td>\n",
       "    </tr>\n",
       "    <tr>\n",
       "      <th>2747</th>\n",
       "      <td>All in all its an insult to one's intelligence...</td>\n",
       "      <td>0</td>\n",
       "    </tr>\n",
       "  </tbody>\n",
       "</table>\n",
       "<p>2748 rows × 2 columns</p>\n",
       "</div>"
      ],
      "text/plain": [
       "                                                 review  sentiment\n",
       "0     So there is no way for me to plug it in here i...          0\n",
       "1                           Good case, Excellent value.          1\n",
       "2                                Great for the jawbone.          1\n",
       "3     Tied to charger for conversations lasting more...          0\n",
       "4                                     The mic is great.          1\n",
       "5     I have to jiggle the plug to get it to line up...          0\n",
       "6     If you have several dozen or several hundred c...          0\n",
       "7           If you are Razr owner...you must have this!          1\n",
       "8                   Needless to say, I wasted my money.          0\n",
       "9                      What a waste of money and time!.          0\n",
       "10                      And the sound quality is great.          1\n",
       "11    He was very impressed when going from the orig...          1\n",
       "12    If the two were seperated by a mere 5+ ft I st...          0\n",
       "13                             Very good quality though          1\n",
       "14    The design is very odd, as the ear \"clip\" is n...          0\n",
       "15    Highly recommend for any one who has a blue to...          1\n",
       "16                  I advise EVERYONE DO NOT BE FOOLED!          0\n",
       "17                                     So Far So Good!.          1\n",
       "18                                        Works great!.          1\n",
       "19    It clicks into place in a way that makes you w...          0\n",
       "20    I went on Motorola's website and followed all ...          0\n",
       "21    I bought this to use with my Kindle Fire and a...          1\n",
       "22             The commercials are the most misleading.          0\n",
       "23    I have yet to run this new battery below two b...          1\n",
       "24    I bought it for my mother and she had a proble...          0\n",
       "25                 Great Pocket PC / phone combination.          1\n",
       "26    I've owned this phone for 7 months now and can...          1\n",
       "27    I didn't think that the instructions provided ...          0\n",
       "28    People couldnt hear me talk and I had to pull ...          0\n",
       "29                                 Doesn't hold charge.          0\n",
       "...                                                 ...        ...\n",
       "2718  Enough can not be said of the remarkable anima...          1\n",
       "2719  The art style has the appearance of crayon/pen...          1\n",
       "2720  If you act in such a film, you should be glad ...          0\n",
       "2721  This one wants to surf on the small wave of sp...          0\n",
       "2722  If you haven't choked in your own vomit by the...          0\n",
       "2723  Still, it makes up for all of this with a supe...          1\n",
       "2724  Just consider the excellent story, solid actin...          1\n",
       "2725  Instead, we got a bore fest about a whiny, spo...          0\n",
       "2726  Then I watched it again two Sundays ago (March...          1\n",
       "2727       It is a very well acted and done TV Movie.            1\n",
       "2728  Judith Light is one of my favorite actresses a...          1\n",
       "2729                I keep watching it over and over.            1\n",
       "2730                 It's a sad movie, but very good.            1\n",
       "2731  If you have not seen this movie, I definitely ...          1\n",
       "2732           She is as lovely as usual, this cutie!            1\n",
       "2733  Still it's quite interesting and entertaining ...          1\n",
       "2734                    ;) Recommend with confidence!            1\n",
       "2735  This movie is well-balanced with comedy and dr...          1\n",
       "2736  It was a riot to see Hugo Weaving play a sex-o...          1\n",
       "2737  :) Anyway, the plot flowed smoothly and the ma...          1\n",
       "2738  The opening sequence of this gem is a classic,...          1\n",
       "2739             Fans of the genre will be in heaven.            1\n",
       "2740                Lange had become a great actress.            1\n",
       "2741                It looked like a wonderful story.            1\n",
       "2742            I never walked out of a movie faster.            0\n",
       "2743  I just got bored watching Jessice Lange take h...          0\n",
       "2744  Unfortunately, any virtue in this film's produ...          0\n",
       "2745                   In a word, it is embarrassing.            0\n",
       "2746                               Exceptionally bad!            0\n",
       "2747  All in all its an insult to one's intelligence...          0\n",
       "\n",
       "[2748 rows x 2 columns]"
      ]
     },
     "execution_count": 10,
     "metadata": {},
     "output_type": "execute_result"
    }
   ],
   "source": [
    "data"
   ]
  },
  {
   "cell_type": "markdown",
   "metadata": {},
   "source": [
    "### Preprocessing Data "
   ]
  },
  {
   "cell_type": "code",
   "execution_count": 11,
   "metadata": {},
   "outputs": [],
   "source": [
    "import re\n",
    "\n",
    "def build_vocab(texts):\n",
    "    sentences = texts.apply(lambda x: x.split()).values\n",
    "    vocab = {}\n",
    "    for sentence in sentences:\n",
    "        for word in sentence:\n",
    "            try:\n",
    "                vocab[word] += 1\n",
    "            except KeyError:\n",
    "                vocab[word] = 1\n",
    "    return vocab\n",
    "\n",
    "def known_contractions(embed):\n",
    "    known = []\n",
    "    for contract in contraction_mapping:\n",
    "        if contract in embed:\n",
    "            known.append(contract)\n",
    "    return known\n",
    "\n",
    "def clean_contractions(text, mapping):\n",
    "    specials = [\"’\", \"‘\", \"´\", \"`\"]\n",
    "    for s in specials:\n",
    "        text = text.replace(s, \"'\")\n",
    "    text = ' '.join([mapping[t] if t in mapping else t for t in text.split(\" \")])\n",
    "    return text\n",
    "\n",
    "def correct_spelling(x, dic):\n",
    "    for word in dic.keys():\n",
    "        x = x.replace(word, dic[word])\n",
    "    return x\n",
    "\n",
    "def unknown_punct(embed, punct):\n",
    "    unknown = ''\n",
    "    for p in punct:\n",
    "        if p not in embed:\n",
    "            unknown += p\n",
    "            unknown += ' '\n",
    "    return unknown\n",
    "\n",
    "def clean_special_chars(text, punct, mapping):\n",
    "    for p in mapping:\n",
    "        text = text.replace(p, mapping[p])\n",
    "    \n",
    "    for p in punct:\n",
    "        text = text.replace(p, f' {p} ')\n",
    "    \n",
    "    specials = {'\\u200b': ' ', '…': ' ... ', '\\ufeff': '', 'करना': '', 'है': ''}  # Other special characters that I have to deal with in last\n",
    "    for s in specials:\n",
    "        text = text.replace(s, specials[s])\n",
    "    \n",
    "    return text\n",
    "\n",
    "def add_lower(embedding, vocab):\n",
    "    count = 0\n",
    "    for word in vocab:\n",
    "        if word in embedding and word.lower() not in embedding:\n",
    "            embedding[word.lower()] = embedding[word]\n",
    "            count += 1\n",
    "    print(f\"Added {count} words to embedding\")    \n",
    "    \n",
    "\n",
    "puncts = [',', '.', '\"', ':', ')', '(', '-', '!', '?', '|', ';', \"'\", '$', '&', '/', '[', ']', '>', '%', '=', '#', '*', '+', '\\\\', '•',  '~', '@', '£', \n",
    " '·', '_', '{', '}', '©', '^', '®', '`',  '<', '→', '°', '€', '™', '›',  '♥', '←', '×', '§', '″', '′', 'Â', '█', '½', 'à', '…', \n",
    " '“', '★', '”', '–', '●', 'â', '►', '−', '¢', '²', '¬', '░', '¶', '↑', '±', '¿', '▾', '═', '¦', '║', '―', '¥', '▓', '—', '‹', '─', \n",
    " '▒', '：', '¼', '⊕', '▼', '▪', '†', '■', '’', '▀', '¨', '▄', '♫', '☆', 'é', '¯', '♦', '¤', '▲', 'è', '¸', '¾', 'Ã', '⋅', '‘', '∞', \n",
    " '∙', '）', '↓', '、', '│', '（', '»', '，', '♪', '╩', '╚', '³', '・', '╦', '╣', '╔', '╗', '▬', '❤', 'ï', 'Ø', '¹', '≤', '‡', '√', ]\n",
    "\n",
    "def clean_text(x):\n",
    "    x = str(x)\n",
    "    for punct in puncts:\n",
    "        if punct in x:\n",
    "            x = x.replace(punct, f' {punct} ')\n",
    "    return x\n",
    "\n",
    "\n",
    "def clean_numbers(x):\n",
    "    if bool(re.search(r'\\d', x)):\n",
    "        x = re.sub('[0-9]{5,}', '#####', x)\n",
    "        x = re.sub('[0-9]{4}', '####', x)\n",
    "        x = re.sub('[0-9]{3}', '###', x)\n",
    "        x = re.sub('[0-9]{2}', '##', x)\n",
    "    return x\n",
    "\n",
    "mispell_dict = {\"ain't\": \"is not\", \"aren't\": \"are not\",\"can't\": \"cannot\", \"'cause\": \"because\", \"could've\": \"could have\", \"couldn't\": \"could not\", \"didn't\": \"did not\",  \"doesn't\": \"does not\", \"don't\": \"do not\", \"hadn't\": \"had not\", \"hasn't\": \"has not\", \"haven't\": \"have not\", \"he'd\": \"he would\",\"he'll\": \"he will\", \"he's\": \"he is\", \"how'd\": \"how did\", \"how'd'y\": \"how do you\", \"how'll\": \"how will\", \"how's\": \"how is\",  \"I'd\": \"I would\", \"I'd've\": \"I would have\", \"I'll\": \"I will\", \"I'll've\": \"I will have\",\"I'm\": \"I am\", \"I've\": \"I have\", \"i'd\": \"i would\", \"i'd've\": \"i would have\", \"i'll\": \"i will\",  \"i'll've\": \"i will have\",\"i'm\": \"i am\", \"i've\": \"i have\", \"isn't\": \"is not\", \"it'd\": \"it would\", \"it'd've\": \"it would have\", \"it'll\": \"it will\", \"it'll've\": \"it will have\",\"it's\": \"it is\", \"let's\": \"let us\", \"ma'am\": \"madam\", \"mayn't\": \"may not\", \"might've\": \"might have\",\"mightn't\": \"might not\",\"mightn't've\": \"might not have\", \"must've\": \"must have\", \"mustn't\": \"must not\", \"mustn't've\": \"must not have\", \"needn't\": \"need not\", \"needn't've\": \"need not have\",\"o'clock\": \"of the clock\", \"oughtn't\": \"ought not\", \"oughtn't've\": \"ought not have\", \"shan't\": \"shall not\", \"sha'n't\": \"shall not\", \"shan't've\": \"shall not have\", \"she'd\": \"she would\", \"she'd've\": \"she would have\", \"she'll\": \"she will\", \"she'll've\": \"she will have\", \"she's\": \"she is\", \"should've\": \"should have\", \"shouldn't\": \"should not\", \"shouldn't've\": \"should not have\", \"so've\": \"so have\",\"so's\": \"so as\", \"this's\": \"this is\",\"that'd\": \"that would\", \"that'd've\": \"that would have\", \"that's\": \"that is\", \"there'd\": \"there would\", \"there'd've\": \"there would have\", \"there's\": \"there is\", \"here's\": \"here is\",\"they'd\": \"they would\", \"they'd've\": \"they would have\", \"they'll\": \"they will\", \"they'll've\": \"they will have\", \"they're\": \"they are\", \"they've\": \"they have\", \"to've\": \"to have\", \"wasn't\": \"was not\", \"we'd\": \"we would\", \"we'd've\": \"we would have\", \"we'll\": \"we will\", \"we'll've\": \"we will have\", \"we're\": \"we are\", \"we've\": \"we have\", \"weren't\": \"were not\", \"what'll\": \"what will\", \"what'll've\": \"what will have\", \"what're\": \"what are\",  \"what's\": \"what is\", \"what've\": \"what have\", \"when's\": \"when is\", \"when've\": \"when have\", \"where'd\": \"where did\", \"where's\": \"where is\", \"where've\": \"where have\", \"who'll\": \"who will\", \"who'll've\": \"who will have\", \"who's\": \"who is\", \"who've\": \"who have\", \"why's\": \"why is\", \"why've\": \"why have\", \"will've\": \"will have\", \"won't\": \"will not\", \"won't've\": \"will not have\", \"would've\": \"would have\", \"wouldn't\": \"would not\", \"wouldn't've\": \"would not have\", \"y'all\": \"you all\", \"y'all'd\": \"you all would\",\"y'all'd've\": \"you all would have\",\"y'all're\": \"you all are\",\"y'all've\": \"you all have\",\"you'd\": \"you would\", \"you'd've\": \"you would have\", \"you'll\": \"you will\", \"you'll've\": \"you will have\", \"you're\": \"you are\", \"you've\": \"you have\", 'colour': 'color', 'centre': 'center', 'favourite': 'favorite', 'travelling': 'traveling', 'counselling': 'counseling', 'theatre': 'theater', 'cancelled': 'canceled', 'labour': 'labor', 'organisation': 'organization', 'wwii': 'world war 2', 'citicise': 'criticize', 'youtu ': 'youtube ', 'Qoura': 'Quora', 'sallary': 'salary', 'Whta': 'What', 'narcisist': 'narcissist', 'howdo': 'how do', 'whatare': 'what are', 'howcan': 'how can', 'howmuch': 'how much', 'howmany': 'how many', 'whydo': 'why do', 'doI': 'do I', 'theBest': 'the best', 'howdoes': 'how does', 'mastrubation': 'masturbation', 'mastrubate': 'masturbate', \"mastrubating\": 'masturbating', 'pennis': 'penis', 'Etherium': 'Ethereum', 'narcissit': 'narcissist', 'bigdata': 'big data', '2k17': '2017', '2k18': '2018', 'qouta': 'quota', 'exboyfriend': 'ex boyfriend', 'airhostess': 'air hostess', \"whst\": 'what', 'watsapp': 'whatsapp', 'demonitisation': 'demonetization', 'demonitization': 'demonetization', 'demonetisation': 'demonetization'}\n",
    "\n",
    "def _get_mispell(mispell_dict):\n",
    "    mispell_re = re.compile('(%s)' % '|'.join(mispell_dict.keys()))\n",
    "    return mispell_dict, mispell_re\n",
    "\n",
    "mispellings, mispellings_re = _get_mispell(mispell_dict)\n",
    "\n",
    "def replace_typical_misspell(text):\n",
    "    def replace(match):\n",
    "        return mispellings[match.group(0)]\n",
    "    return mispellings_re.sub(replace, text)\n",
    "\n",
    "def additionalProcc(text):\n",
    "    text = text.lower() \n",
    "    text = re.sub(r\"(@[a-z]*)\", \"<mention>\", text)\n",
    "    text = re.sub(r\"(&[a-z;]*)\", \"<none>\", text)\n",
    "    text = re.sub(r\"(#[a-z;]*)\", \"<hash>\", text)\n",
    "    text = re.sub(r\"(http|https|ftp|ftps)\\:\\/\\/[a-zA-Z0-9\\-\\.]+\\.[a-zA-Z]{2,3}(\\/\\S*)?\", \"<link>\", text)\n",
    "    text = re.sub(r'https?://\\S+', '<link>', text)\n",
    "    text = re.sub(r\"(www.[a-z.\\/0-9]*)\", \"<link>\", text)\n",
    "    return text\n"
   ]
  },
  {
   "cell_type": "code",
   "execution_count": 12,
   "metadata": {},
   "outputs": [
    {
     "name": "stderr",
     "output_type": "stream",
     "text": [
      "/media/ghost/71f17ea4-f157-44e3-8ec8-4d543ed39935/home/gh05t/lib/python3.7/site-packages/ipykernel_launcher.py:3: TqdmDeprecationWarning: This function will be removed in tqdm==5.0.0\n",
      "Please use `tqdm.notebook.tqdm` instead of `tqdm.tqdm_notebook`\n",
      "  This is separate from the ipykernel package so we can avoid doing imports until\n"
     ]
    },
    {
     "data": {
      "application/vnd.jupyter.widget-view+json": {
       "model_id": "7b65f69c60b649e0a72f28635b2657d1",
       "version_major": 2,
       "version_minor": 0
      },
      "text/plain": [
       "HBox(children=(FloatProgress(value=1.0, bar_style='info', max=1.0), HTML(value='')))"
      ]
     },
     "metadata": {},
     "output_type": "display_data"
    },
    {
     "name": "stdout",
     "output_type": "stream",
     "text": [
      "\n"
     ]
    },
    {
     "data": {
      "application/vnd.jupyter.widget-view+json": {
       "model_id": "db81729d64ad4a3f8815c31fa7ed3488",
       "version_major": 2,
       "version_minor": 0
      },
      "text/plain": [
       "HBox(children=(FloatProgress(value=0.0, max=2748.0), HTML(value='')))"
      ]
     },
     "metadata": {},
     "output_type": "display_data"
    },
    {
     "name": "stdout",
     "output_type": "stream",
     "text": [
      "\n"
     ]
    },
    {
     "data": {
      "application/vnd.jupyter.widget-view+json": {
       "model_id": "bd1779dfc65443579c9f247316195395",
       "version_major": 2,
       "version_minor": 0
      },
      "text/plain": [
       "HBox(children=(FloatProgress(value=0.0, max=2748.0), HTML(value='')))"
      ]
     },
     "metadata": {},
     "output_type": "display_data"
    },
    {
     "name": "stdout",
     "output_type": "stream",
     "text": [
      "\n"
     ]
    },
    {
     "data": {
      "application/vnd.jupyter.widget-view+json": {
       "model_id": "11c515a581324eda8bcb2450c74844f0",
       "version_major": 2,
       "version_minor": 0
      },
      "text/plain": [
       "HBox(children=(FloatProgress(value=0.0, max=2748.0), HTML(value='')))"
      ]
     },
     "metadata": {},
     "output_type": "display_data"
    },
    {
     "name": "stdout",
     "output_type": "stream",
     "text": [
      "\n"
     ]
    },
    {
     "data": {
      "application/vnd.jupyter.widget-view+json": {
       "model_id": "cd31c8ae4b1843ef90a4cf0f6bf8ac1c",
       "version_major": 2,
       "version_minor": 0
      },
      "text/plain": [
       "HBox(children=(FloatProgress(value=0.0, max=2748.0), HTML(value='')))"
      ]
     },
     "metadata": {},
     "output_type": "display_data"
    },
    {
     "name": "stdout",
     "output_type": "stream",
     "text": [
      "\n"
     ]
    }
   ],
   "source": [
    "#Extracting Reviews and Sentiments\n",
    "from tqdm import tqdm, tqdm_notebook\n",
    "tqdm_notebook().pandas()\n",
    "data['review'] = data['review'].apply(lambda x: x.lower())\n",
    "\n",
    "# Clean the text\n",
    "data['review'] = data['review'].progress_apply(lambda x: clean_text(x))\n",
    "\n",
    "# Clean numbers\n",
    "data['review'] = data['review'].progress_apply(lambda x: clean_numbers(x))\n",
    "\n",
    "# Clean spellings\n",
    "data['review'] = data['review'].progress_apply(lambda x: replace_typical_misspell(x))\n",
    "#vocab = build_vocab(data['review'])\n",
    "## fill up the missing values\n",
    "data['rewiew']= data['review'].fillna(\"_##_\").values\n",
    "data['review'] = data['review'].progress_apply(lambda x: additionalProcc(x))\n",
    "\n",
    "sentences=data['review'].tolist()\n",
    "label=data['sentiment'].tolist()"
   ]
  },
  {
   "cell_type": "code",
   "execution_count": 13,
   "metadata": {
    "scrolled": true
   },
   "outputs": [
    {
     "name": "stdout",
     "output_type": "stream",
     "text": [
      "Sentences\n",
      "so there is no way for me to plug it in here in the us unless i go by a converter .  0\n",
      "good case ,  excellent value .  1\n",
      "great for the jawbone .  1\n",
      "tied to charger for conversations lasting more than <hash><hash> minutes . major problems !  !  0\n",
      "the mic is great .  1\n",
      "i have to jiggle the plug to get it to line up right to get decent volume .  0\n",
      "if you have several dozen or several hundred contacts ,  then imagine the fun of sending each of them one by one .  0\n",
      "if you are razr owner .  .  . you must have this !  1\n",
      "needless to say ,  i wasted my money .  0\n",
      "what a waste of money and time !  .  0\n"
     ]
    }
   ],
   "source": [
    "# print some examples of sentences and labels\n",
    "print(\"Sentences\")\n",
    "for i in range(10):\n",
    "    #print(sentences[i],end=\"\\n\")\n",
    "    print(\"{} {}\".format(sentences[i],label[i]))\n",
    "    \n"
   ]
  },
  {
   "cell_type": "code",
   "execution_count": 14,
   "metadata": {},
   "outputs": [],
   "source": [
    "#!pip install -U \"tensorflow==2.0\" \n",
    "#!pip install tensorflow==1.13.1"
   ]
  },
  {
   "cell_type": "code",
   "execution_count": 15,
   "metadata": {},
   "outputs": [
    {
     "name": "stderr",
     "output_type": "stream",
     "text": [
      "Using TensorFlow backend.\n"
     ]
    },
    {
     "name": "stdout",
     "output_type": "stream",
     "text": [
      "['good', 'case', ',', 'excellent', 'value', '.']\n"
     ]
    }
   ],
   "source": [
    "#Create A Subword Datasets\n",
    "import nltk\n",
    "#import tensorflow_datasets as tfds\n",
    "import tensorflow as tf\n",
    "from keras.preprocessing.text import Tokenizer\n",
    "\n",
    "from tensorflow.keras.preprocessing.sequence import pad_sequences\n",
    "vocab_size=10000\n",
    "#tokenizer=tfds.features.text.SubwordTextEncoder.build_from_corpus(sentences,vocab_size)\n",
    "#tokenizer.save_to_file('dfd')\n",
    "for i in range(len(sentences)):\n",
    "    sentences[i] = nltk.word_tokenize(sentences[i])\n",
    "print(sentences[1])\n",
    "tokenizer = Tokenizer(split=' ', char_level=False)\n",
    "tokenizer.fit_on_texts(sentences)"
   ]
  },
  {
   "cell_type": "code",
   "execution_count": 16,
   "metadata": {},
   "outputs": [
    {
     "name": "stdout",
     "output_type": "stream",
     "text": [
      "vocab size is 10000\n",
      "['good', 'case', ',', 'excellent', 'value', '.']\n",
      "[[28], [173], [], [106], [546], []]\n",
      "dict_items([('.', 1), ('the', 2), (',', 3), ('and', 4), ('i', 5), ('a', 6), ('it', 7), ('is', 8), (\"'\", 9), ('to', 10), ('this', 11), ('of', 12), ('was', 13), ('!', 14), ('<', 15), ('>', 16), ('hash', 17), ('in', 18), ('for', 19), ('that', 20), ('not', 21), ('-', 22), ('t', 23), ('with', 24), ('s', 25), ('my', 26), ('very', 27), ('good', 28), ('you', 29), ('on', 30), ('great', 31), ('but', 32), ('have', 33), ('movie', 34), ('are', 35), ('as', 36), ('so', 37), ('phone', 38), ('film', 39), ('all', 40), ('be', 41), ('one', 42), ('0', 43), ('had', 44), ('1', 45), ('at', 46), ('food', 47), ('like', 48), ('``', 49), ('just', 50), ('place', 51), ('there', 52), ('time', 53), ('service', 54), ('they', 55), ('an', 56), ('were', 57), ('we', 58), ('if', 59), ('from', 60), ('bad', 61), ('really', 62), (')', 63), ('(', 64), ('can', 65), ('well', 66), ('out', 67), ('has', 68), ('would', 69), ('about', 70), ('no', 71), ('or', 72), ('your', 73), ('don', 74), ('only', 75), ('by', 76), ('best', 77), ('here', 78), ('even', 79), ('ever', 80), ('up', 81), ('also', 82), ('will', 83), ('back', 84), ('me', 85), ('when', 86), ('more', 87), ('than', 88), ('quality', 89), ('go', 90), ('ve', 91), ('what', 92), ('he', 93), ('love', 94), ('made', 95), ('which', 96), ('because', 97), ('how', 98), ('product', 99), ('too', 100), ('work', 101), ('get', 102), ('their', 103), ('m', 104), ('some', 105), ('excellent', 106), ('any', 107), ('do', 108), ('works', 109), ('could', 110), ('nice', 111), ('better', 112), ('never', 113), ('after', 114), ('been', 115), ('sound', 116), ('recommend', 117), ('who', 118), ('much', 119), ('again', 120), ('use', 121), ('other', 122), ('did', 123), ('our', 124), ('headset', 125), ('his', 126), ('think', 127), ('first', 128), ('battery', 129), ('way', 130), ('them', 131), ('pretty', 132), ('see', 133), ('acting', 134), ('/', 135), ('didn', 136), ('make', 137), ('its', 138), ('most', 139), ('got', 140), ('over', 141), ('worst', 142), ('now', 143), ('still', 144), (':', 145), ('2', 146), ('none', 147), ('does', 148), ('everything', 149), ('say', 150), ('enough', 151), ('two', 152), ('ear', 153), ('little', 154), ('disappointed', 155), ('am', 156), ('every', 157), ('characters', 158), ('right', 159), ('then', 160), ('going', 161), ('thing', 162), ('price', 163), ('these', 164), ('being', 165), ('amazing', 166), ('minutes', 167), ('waste', 168), ('people', 169), ('real', 170), ('off', 171), ('definitely', 172), ('case', 173), ('terrible', 174), ('money', 175), ('look', 176), ('new', 177), ('both', 178), ('know', 179), ('experience', 180), ('came', 181), ('movies', 182), ('into', 183), ('friendly', 184), ('doesn', 185), ('?', 186), ('few', 187), ('many', 188), ('her', 189), ('plot', 190), ('story', 191), ('far', 192), ('life', 193), ('poor', 194), ('piece', 195), ('used', 196), ('worth', 197), ('long', 198), ('years', 199), ('d', 200), ('nothing', 201), ('won', 202), ('seen', 203), ('us', 204), ('she', 205), ('want', 206), ('lot', 207), ('while', 208), (';', 209), ('quite', 210), ('restaurant', 211), ('wonderful', 212), ('happy', 213), ('screen', 214), ('always', 215), ('films', 216), ('character', 217), ('script', 218), ('highly', 219), ('camera', 220), ('found', 221), ('ll', 222), ('give', 223), ('anyone', 224), ('wasn', 225), ('delicious', 226), ('down', 227), ('easy', 228), ('times', 229), ('another', 230), ('vegas', 231), ('watching', 232), ('went', 233), ('bought', 234), ('absolutely', 235), ('loved', 236), ('car', 237), ('fine', 238), ('buy', 239), ('should', 240), ('worked', 241), ('around', 242), ('funny', 243), ('before', 244), ('probably', 245), ('however', 246), ('take', 247), ('awful', 248), ('comfortable', 249), ('since', 250), ('big', 251), ('item', 252), ('same', 253), ('slow', 254), ('awesome', 255), ('thought', 256), ('horrible', 257), ('stars', 258), ('charger', 259), ('must', 260), ('impressed', 261), ('5', 262), ('makes', 263), ('end', 264), ('cool', 265), ('find', 266), ('music', 267), ('where', 268), ('those', 269), ('things', 270), ('show', 271), ('totally', 272), ('staff', 273), ('eat', 274), ('watch', 275), ('scenes', 276), ('actors', 277), ('though', 278), ('last', 279), ('talk', 280), ('bluetooth', 281), ('black', 282), ('such', 283), ('couldn', 284), ('job', 285), ('small', 286), ('$', 287), ('cheap', 288), ('*', 289), ('fantastic', 290), ('night', 291), ('overall', 292), ('part', 293), ('family', 294), ('old', 295), ('day', 296), ('come', 297), ('cast', 298), ('line', 299), ('beautiful', 300), ('reception', 301), ('kind', 302), ('ordered', 303), ('stupid', 304), ('said', 305), ('feel', 306), ('perfect', 307), ('chicken', 308), ('problem', 309), ('sure', 310), ('performance', 311), ('actually', 312), ('done', 313), ('avoid', 314), ('try', 315), ('low', 316), ('especially', 317), ('next', 318), ('fresh', 319), ('special', 320), ('problems', 321), ('everyone', 322), ('charge', 323), ('least', 324), ('3', 325), ('working', 326), ('order', 327), ('tried', 328), ('between', 329), ('simply', 330), ('felt', 331), ('bit', 332), ('year', 333), ('customer', 334), ('anything', 335), ('sucks', 336), ('hard', 337), ('re', 338), ('coming', 339), ('menu', 340), ('salad', 341), ('interesting', 342), ('pizza', 343), ('scene', 344), ('each', 345), ('without', 346), ('hear', 347), ('calls', 348), ('looks', 349), ('purchase', 350), ('gets', 351), ('expect', 352), ('fit', 353), ('fast', 354), ('cell', 355), ('completely', 356), ('almost', 357), ('either', 358), ('away', 359), ('liked', 360), ('taste', 361), ('wait', 362), ('steak', 363), ('writing', 364), ('enjoyed', 365), ('worse', 366), ('man', 367), ('motorola', 368), ('left', 369), ('short', 370), ('clear', 371), ('seriously', 372), ('different', 373), ('device', 374), ('super', 375), ('using', 376), ('white', 377), ('call', 378), ('whole', 379), ('rather', 380), ('bland', 381), ('through', 382), ('hour', 383), ('fact', 384), ('server', 385), ('sushi', 386), ('flavor', 387), ('art', 388), ('dialogue', 389), ('plug', 390), ('volume', 391), ('several', 392), ('started', 393), ('design', 394), ('three', 395), ('play', 396), ('full', 397), ('may', 398), ('getting', 399), ('perfectly', 400), ('side', 401), ('put', 402), ('incredible', 403), ('extremely', 404), ('tell', 405), ('return', 406), ('disappointing', 407), ('looking', 408), ('having', 409), ('crap', 410), ('deal', 411), ('understand', 412), ('unfortunately', 413), ('took', 414), ('sucked', 415), ('enjoy', 416), ('believe', 417), ('burger', 418), ('buffet', 419), ('atmosphere', 420), ('watched', 421), ('feeling', 422), ('saw', 423), ('director', 424), ('yet', 425), ('need', 426), ('received', 427), ('huge', 428), ('high', 429), ('light', 430), ('fits', 431), ('during', 432), ('hours', 433), ('less', 434), ('once', 435), ('stay', 436), ('certainly', 437), ('mess', 438), ('disappointment', 439), ('hands', 440), ('care', 441), ('hot', 442), ('oh', 443), ('wrong', 444), ('barely', 445), ('truly', 446), ('mediocre', 447), ('soon', 448), ('tasty', 449), ('meal', 450), ('boring', 451), ('ending', 452), ('fun', 453), ('wasted', 454), ('original', 455), ('days', 456), ('months', 457), ('recommended', 458), ('kept', 459), ('picture', 460), ('phones', 461), ('world', 462), ('let', 463), ('series', 464), ('home', 465), ('strong', 466), ('pleased', 467), ('voice', 468), ('area', 469), ('glad', 470), ('company', 471), ('gave', 472), ('star', 473), ('own', 474), ('something', 475), ('tv', 476), ('together', 477), ('effects', 478), ('easily', 479), ('inside', 480), ('top', 481), ('selection', 482), ('prices', 483), ('sauce', 484), ('lunch', 485), ('breakfast', 486), ('waited', 487), ('cold', 488), ('why', 489), ('kids', 490), ('predictable', 491), ('cinematography', 492), ('actor', 493), ('played', 494), ('drama', 495), ('decent', 496), ('helpful', 497), ('turn', 498), ('priced', 499), ('verizon', 500), ('dropped', 501), ('seems', 502), ('wear', 503), ('broke', 504), ('free', 505), ('jabra', 506), ('wife', 507), ('set', 508), ('house', 509), ('check', 510), ('lost', 511), ('junk', 512), ('amazon', 513), ('ago', 514), ('couple', 515), ('face', 516), ('self', 517), ('trying', 518), ('wanted', 519), ('today', 520), ('keep', 521), ('under', 522), ('guess', 523), ('bar', 524), ('else', 525), ('making', 526), ('places', 527), ('fries', 528), ('waitress', 529), ('table', 530), ('sandwich', 531), ('second', 532), ('eating', 533), ('meat', 534), ('dishes', 535), ('playing', 536), ('spot', 537), ('clean', 538), ('half', 539), ('myself', 540), ('him', 541), ('style', 542), ('directing', 543), ('game', 544), ('horror', 545), ('value', 546), ('simple', 547), ('hate', 548), ('garbage', 549), ('audio', 550), ('mind', 551), ('buttons', 552), ('perhaps', 553), ('arrived', 554), ('quickly', 555), ('pictures', 556), ('although', 557), ('ask', 558), ('wouldn', 559), ('obviously', 560), ('mostly', 561), ('expected', 562), ('favorite', 563), ('important', 564), ('someone', 565), ('weak', 566), ('average', 567), ('finally', 568), ('waiting', 569), ('comes', 570), ('unit', 571), ('given', 572), ('quick', 573), ('plus', 574), ('point', 575), ('pay', 576), ('told', 577), ('entire', 578), ('4', 579), ('fails', 580), ('word', 581), ('girl', 582), ('human', 583), ('beer', 584), ('amount', 585), ('dish', 586), ('dining', 587), ('spicy', 588), ('rude', 589), ('itself', 590), ('twice', 591), ('tasted', 592), ('cinema', 593), ('suspense', 594), ('unless', 595), ('book', 596), ('loud', 597), ('reasonable', 598), ('front', 599), ('cover', 600), ('week', 601), ('later', 602), ('feels', 603), ('headsets', 604), ('within', 605), ('software', 606), ('brilliant', 607), ('literally', 608), ('superb', 609), ('internet', 610), ('charm', 611), ('useless', 612), ('color', 613), ('room', 614), ('authentic', 615), ('cable', 616), ('8', 617), ('nokia', 618), ('outside', 619), ('others', 620), ('mention', 621), ('might', 622), ('solid', 623), ('review', 624), ('store', 625), ('above', 626), ('friends', 627), ('isn', 628), ('course', 629), ('needed', 630), ('wall', 631), ('whatever', 632), ('management', 633), ('joy', 634), ('overpriced', 635), ('warm', 636), ('waiter', 637), ('tender', 638), ('sick', 639), ('attentive', 640), ('cooked', 641), ('heart', 642), ('beyond', 643), ('town', 644), ('served', 645), ('ambiance', 646), ('é', 647), ('chips', 648), ('drive', 649), ('hope', 650), ('annoying', 651), ('single', 652), ('possible', 653), ('close', 654), ('location', 655), ('bring', 656), ('maybe', 657), ('non', 658), ('classic', 659), ('editing', 660), ('hilarious', 661), ('lines', 662), ('budget', 663), ('written', 664), ('john', 665), ('action', 666), ('subtle', 667), ('seeing', 668), ('comedy', 669), ('+', 670), ('blue', 671), ('below', 672), ('bars', 673), ('hold', 674), ('ears', 675), ('features', 676), ('instead', 677), ('large', 678), ('headphones', 679), ('particular', 680), ('player', 681), ('songs', 682), ('sometimes', 683), ('longer', 684), ('costs', 685), ('dont', 686), ('signal', 687), ('basically', 688), ('seemed', 689), ('goes', 690), ('whether', 691), ('hit', 692), ('thin', 693), ('bother', 694), ('range', 695), ('living', 696), ('child', 697), ('mistake', 698), ('whatsoever', 699), ('feature', 700), ('adorable', 701), ('poorly', 702), ('clever', 703), ('lacking', 704), ('reason', 705), ('exactly', 706), ('dead', 707), ('plastic', 708), ('note', 709), ('difficult', 710), ('seem', 711), ('zero', 712), ('joke', 713), ('walked', 714), ('idea', 715), ('samsung', 716), ('cases', 717), ('extra', 718), ('reviews', 719), ('happened', 720), ('despite', 721), ('etc', 722), ('elsewhere', 723), ('hand', 724), ('rare', 725), ('lots', 726), ('until', 727), ('setting', 728), ('rating', 729), ('rest', 730), ('wow', 731), ('damn', 732), ('pho', 733), ('running', 734), ('shrimp', 735), ('fish', 736), ('sweet', 737), ('potato', 738), ('leave', 739), ('considering', 740), ('terrific', 741), ('sat', 742), ('looked', 743), ('business', 744), ('become', 745), ('dinner', 746), ('lovely', 747), ('ridiculous', 748), ('lacks', 749), ('casting', 750), ('history', 751), ('flick', 752), ('performances', 753), ('believable', 754), ('portrayal', 755), ('gives', 756), ('rent', 757), ('hitchcock', 758), ('holes', 759), ('memorable', 760), ('throughout', 761), ('razr', 762), ('owner', 763), ('charging', 764), ('owned', 765), ('7', 766), ('mobile', 767), ('provided', 768), ('moving', 769), ('sturdy', 770), ('party', 771), ('person', 772), ('choice', 773), ('holds', 774), ('bargain', 775), ('shipping', 776), ('rated', 777), ('impressive', 778), ('fall', 779), ('leather', 780), ('weeks', 781), ('bt', 782), ('stuff', 783), ('minute', 784), ('forever', 785), ('graphics', 786), ('offers', 787), ('options', 788), ('needs', 789), ('recently', 790), ('incredibly', 791), ('reasonably', 792), ('form', 793), ('embarrassing', 794), ('cute', 795), ('buying', 796), ('cant', 797), ('games', 798), ('belt', 799), ('data', 800), ('along', 801), ('sides', 802), ('satisfied', 803), ('clarity', 804), ('wish', 805), ('turned', 806), ('%', 807), ('reading', 808), ('computer', 809), ('ability', 810), ('roles', 811), ('ended', 812), ('replace', 813), ('touch', 814), ('total', 815), ('please', 816), ('due', 817), ('trash', 818), ('connection', 819), ('wind', 820), ('rate', 821), ('beat', 822), ('shots', 823), ('generally', 824), ('break', 825), ('thumbs', 826), ('dirty', 827), ('haven', 828), ('utterly', 829), ('ok', 830), ('asked', 831), ('tables', 832), ('portions', 833), ('dessert', 834), ('beef', 835), ('servers', 836), ('flat', 837), ('seafood', 838), ('pasta', 839), ('tasteless', 840), ('water', 841), ('rice', 842), ('mouth', 843), ('trip', 844), ('thai', 845), ('eaten', 846), ('empty', 847), ('seated', 848), ('bacon', 849), ('sad', 850), ('ice', 851), ('bread', 852), ('friend', 853), ('unbelievable', 854), ('eyes', 855), ('sub', 856), ('par', 857), ('fried', 858), ('plain', 859), ('deserves', 860), ('usual', 861), ('anytime', 862), ('recent', 863), ('consider', 864), ('fan', 865), ('dry', 866), ('list', 867), ('themselves', 868), ('soundtrack', 869), ('mean', 870), ('level', 871), ('aren', 872), ('lacked', 873), ('imagination', 874), ('audience', 875), ('production', 876), ('\\x96', 877), ('lame', 878), ('tom', 879), ('often', 880), ('direction', 881), ('cult', 882), ('theater', 883), ('lead', 884), ('silent', 885), ('thriller', 886), ('pathetic', 887), ('fans', 888), ('shot', 889), ('involved', 890), ('period', 891), ('particularly', 892), ('mic', 893), ('sending', 894), ('clip', 895), ('advise', 896), ('website', 897), ('pair', 898), ('run', 899), ('instructions', 900), ('pull', 901), ('included', 902), ('worthless', 903), ('thats', 904), ('keyboard', 905), ('turns', 906), ('forget', 907), ('support', 908), ('clearly', 909), ('fairly', 910), ('trouble', 911), ('station', 912), ('purchased', 913), ('loves', 914), ('decision', 915), ('rocks', 916), ('number', 917), ('comfortably', 918), ('failed', 919), ('takes', 920), ('previous', 921), ('tool', 922), ('share', 923), ('wasting', 924), ('network', 925), ('likes', 926), ('lasts', 927), ('nearly', 928), ('anyway', 929), ('able', 930), ('issues', 931), ('lightweight', 932), ('hair', 933), ('market', 934), ('type', 935), ('earpiece', 936), ('unreliable', 937), ('seller', 938), ('plantronics', 939), ('charged', 940), ('strip', 941), ('lg', 942), ('gotten', 943), ('immediately', 944), ('easier', 945), ('appealing', 946), ('called', 947), ('happier', 948), ('starts', 949), ('effective', 950), ('weird', 951), ('appearance', 952), ('q', 953), ('expensive', 954), ('results', 955), ('im', 956), ('earlier', 957), ('palm', 958), ('missed', 959), ('cingular', 960), ('hated', 961), ('ringtones', 962), ('stop', 963), ('plays', 964), ('doing', 965), ('killer', 966), ('treo', 967), ('usb', 968), ('genuine', 969), ('red', 970), ('third', 971), ('ready', 972), ('chinese', 973), ('crisp', 974), ('video', 975), ('power', 976), ('passed', 977), ('shows', 978), ('cut', 979), ('somewhat', 980), ('cost', 981), ('son', 982), ('addition', 983), ('disgusting', 984), ('five', 985), ('yes', 986), ('checked', 987), ('says', 988), ('exceptional', 989), ('wonderfully', 990), ('christmas', 991), ('directed', 992), ('nasty', 993), ('mexican', 994), ('tacos', 995), ('salmon', 996), ('final', 997), ('yourself', 998), ('visit', 999), ('delight', 1000), ('establishment', 1001), ('fear', 1002), ('husband', 1003), ('towards', 1004), ('heard', 1005), ('drinks', 1006), ('known', 1007), ('sense', 1008), ('rolls', 1009), ('yummy', 1010), ('wine', 1011), ('honest', 1012), ('steaks', 1013), ('pork', 1014), ('including', 1015), ('massive', 1016), ('burgers', 1017), ('cream', 1018), ('drink', 1019), ('attention', 1020), ('bay', 1021), ('phoenix', 1022), ('wings', 1023), ('live', 1024), ('showed', 1025), ('folks', 1026), ('chef', 1027), ('honestly', 1028), ('dark', 1029), ('tea', 1030), ('charming', 1031), ('pleasant', 1032), ('vegetables', 1033), ('ten', 1034), ('soup', 1035), ('space', 1036), ('green', 1037), ('owners', 1038), ('enjoyable', 1039), ('paid', 1040), ('manager', 1041), ('bunch', 1042), ('conclusion', 1043), ('thoroughly', 1044), ('gone', 1045), ('boyfriend', 1046), ('complete', 1047), ('guy', 1048), ('vibe', 1049), ('greatest', 1050), ('italian', 1051), ('gem', 1052), ('main', 1053), ('crowd', 1054), ('words', 1055), ('crazy', 1056), ('head', 1057), ('ed', 1058), ('thinking', 1059), ('remember', 1060), ('young', 1061), ('song', 1062), ('tale', 1063), ('true', 1064), ('pg', 1065), ('convincing', 1066), ('follow', 1067), ('energy', 1068), ('pretentious', 1069), ('occasionally', 1070), ('chemistry', 1071), ('depth', 1072), ('storyline', 1073), ('already', 1074), ('attempt', 1075), ('torture', 1076), ('premise', 1077), ('ups', 1078), ('age', 1079), ('ray', 1080), ('charles', 1081), ('master', 1082), ('visual', 1083), ('indeed', 1084), ('intelligence', 1085), ('intelligent', 1086), ('entertaining', 1087), ('bored', 1088), ('drago', 1089), ('god', 1090), ('parts', 1091), ('sets', 1092), ('stories', 1093), ('created', 1094), ('role', 1095), ('scamp', 1096), ('insult', 1097), ('death', 1098), ('serious', 1099), ('mickey', 1100), ('james', 1101), ('dance', 1102), ('beginning', 1103), ('appreciate', 1104), ('jawbone', 1105), ('conversations', 1106), ('lasting', 1107), ('contacts', 1108), ('imagine', 1109), ('needless', 1110), ('static', 1111), ('odd', 1112), ('wonder', 1113), ('fire', 1114), ('mother', 1115), ('pocket', 1116), ('pc', 1117), ('combination', 1118), ('speed', 1119), ('gon', 1120), ('na', 1121), ('returned', 1122), ('protection', 1123), ('machine', 1124), ('e', 1125), ('seconds', 1126), ('complaints', 1127), ('glasses', 1128), ('quiet', 1129), ('saying', 1130), ('packaged', 1131), ('6', 1132), ('construction', 1133), ('boy', 1134), ('loads', 1135), ('ease', 1136), ('plan', 1137), ('beware', 1138), ('supposedly', 1139), ('match', 1140), ('pros', 1141), ('flaw', 1142), ('expectations', 1143), ('display', 1144), ('sex', 1145), ('setup', 1146), ('earpieces', 1147), ('earbud', 1148), ('coverage', 1149), ('tremendous', 1150), ('experienced', 1151), ('drops', 1152), ('description', 1153), ('hoping', 1154), ('sounds', 1155), ('sharp', 1156), ('chargers', 1157), ('handsfree', 1158), ('bucks', 1159), ('replacement', 1160), ('strange', 1161), ('means', 1162), ('sony', 1163), ('comfort', 1164), ('aspect', 1165), ('appears', 1166), ('scary', 1167), ('drain', 1168), ('fry', 1169), ('giving', 1170), ('scratched', 1171), ('wise', 1172), ('microphone', 1173), ('uncomfortable', 1174), ('plugged', 1175), ('driving', 1176), ('neither', 1177), ('flip', 1178), ('inexpensive', 1179), ('sitting', 1180), ('los', 1181), ('angeles', 1182), ('wireless', 1183), ('save', 1184), ('help', 1185), ('era', 1186), ('breaks', 1187), ('effect', 1188), ('warning', 1189), ('alone', 1190), ('size', 1191), ('fi', 1192), ('wearing', 1193), ('sunglasses', 1194), ('returning', 1195), ('changing', 1196), ('worthwhile', 1197), ('pricing', 1198), ('regret', 1199), ('user', 1200), ('pitiful', 1201), ('noise', 1202), ('holster', 1203), ('eye', 1204), ('amazed', 1205), ('orders', 1206), ('thanks', 1207), ('edge', 1208), ('refund', 1209), ('drop', 1210), ('ones', 1211), ('properly', 1212), ('flawed', 1213), ('forced', 1214), ('speaker', 1215), ('constructed', 1216), ('holding', 1217), ('sprint', 1218), ('effort', 1219), ('breaking', 1220), ('stopped', 1221), ('pack', 1222), ('apart', 1223), ('surprised', 1224), ('fabulous', 1225), ('tinny', 1226), ('overly', 1227), ('placed', 1228), ('keeps', 1229), ('falling', 1230), ('tiny', 1231), ('four', 1232), ('spring', 1233), ('tries', 1234), ('interested', 1235), ('continue', 1236), ('pairing', 1237), ('balance', 1238), ('explain', 1239), ('biggest', 1240), ('stand', 1241), ('occupied', 1242), ('ripped', 1243), ('mini', 1244), ('v', 1245), ('r', 1246), ('iphone', 1247), ('multiple', 1248), ('outlet', 1249), ('freedom', 1250), ('mark', 1251), ('plenty', 1252), ('convenient', 1253), ('date', 1254), ('bottom', 1255), ('wooden', 1256), ('boot', 1257), ('sorry', 1258), ('double', 1259), ('sounded', 1260), ('feet', 1261), ('everywhere', 1262), ('father', 1263), ('send', 1264), ('describe', 1265), ('letting', 1266), ('material', 1267), ('flaws', 1268), ('beep', 1269), ('managed', 1270), ('seat', 1271), ('otherwise', 1272), ('control', 1273), ('complain', 1274), ('lousy', 1275), ('painful', 1276), ('disappoint', 1277), ('texture', 1278), ('late', 1279), ('steve', 1280), ('recommendation', 1281), ('potatoes', 1282), ('brought', 1283), ('sashimi', 1284), ('redeeming', 1285), ('moist', 1286), ('judge', 1287), ('frozen', 1288), ('behind', 1289), ('greek', 1290), ('dressing', 1291), ('pita', 1292), ('hummus', 1293), ('duck', 1294), ('realized', 1295), ('imaginative', 1296), ('excuse', 1297), ('salt', 1298), ('chewy', 1299), ('suck', 1300), ('appalling', 1301), ('disaster', 1302), ('summary', 1303), ('step', 1304), ('tip', 1305), ('lady', 1306), ('cafe', 1307), ('added', 1308), ('ambience', 1309), ('busy', 1310), ('gross', 1311), ('guys', 1312), ('belly', 1313), ('wrap', 1314), ('delish', 1315), ('melt', 1316), ('selections', 1317), ('cheese', 1318), ('subway', 1319), ('restaurants', 1320), ('ate', 1321), ('pace', 1322), ('stale', 1323), ('bakery', 1324), ('treated', 1325), ('ladies', 1326), ('thrilled', 1327), ('vegetarian', 1328), ('daughter', 1329), ('leaves', 1330), ('modern', 1331), ('hip', 1332), ('healthy', 1333), ('decor', 1334), ('butter', 1335), ('egg', 1336), ('dog', 1337), ('insulted', 1338), ('brunch', 1339), ('soggy', 1340), ('lobster', 1341), ('yeah', 1342), ('supposed', 1343), ('stayed', 1344), ('reviewer', 1345), ('flavorful', 1346), ('lighting', 1347), ('parents', 1348), ('exquisite', 1349), ('generous', 1350), ('patio', 1351), ('outstanding', 1352), ('stinks', 1353), ('pizzas', 1354), ('pulled', 1355), ('delightful', 1356), ('fare', 1357), ('ways', 1358), ('doubt', 1359), ('mom', 1360), ('equally', 1361), ('treat', 1362), ('bathroom', 1363), ('door', 1364), ('stomach', 1365), ('beans', 1366), ('past', 1367), ('regular', 1368), ('fat', 1369), ('contained', 1370), ('handled', 1371), ('beautifully', 1372), ('bill', 1373), ('meals', 1374), ('struck', 1375), ('homemade', 1376), ('glance', 1377), ('desserts', 1378), ('baby', 1379), ('deeply', 1380), ('weren', 1381), ('edible', 1382), ('seating', 1383), ('industry', 1384), ('nut', 1385), ('paper', 1386), ('begin', 1387), ('opened', 1388), ('girlfriend', 1389), ('salsa', 1390), ('spend', 1391), ('hell', 1392), ('putting', 1393), ('cause', 1394), ('speak', 1395), ('meaning', 1396), ('delivers', 1397), ('sea', 1398), ('faux', 1399), ('significant', 1400), ('pure', 1401), ('brilliance', 1402), ('moment', 1403), ('talented', 1404), ('hill', 1405), ('grace', 1406), ('negative', 1407), ('pointless', 1408), ('anne', 1409), ('children', 1410), ('dialog', 1411), ('provoking', 1412), ('paced', 1413), ('lion', 1414), ('acted', 1415), ('checking', 1416), ('touching', 1417), ('scenery', 1418), ('mature', 1419), ('episode', 1420), ('remake', 1421), ('nobody', 1422), ('conflict', 1423), ('stereotypes', 1424), ('cartoon', 1425), ('paul', 1426), ('women', 1427), ('brain', 1428), ('presents', 1429), ('screenwriter', 1430), ('indulgent', 1431), ('spent', 1432), ('singing', 1433), ('bore', 1434), ('dancing', 1435), ('dvd', 1436), ('theme', 1437), ('aerial', 1438), ('interest', 1439), ('narrative', 1440), ('actress', 1441), ('spoilers', 1442), ('stunning', 1443), ('fx', 1444), ('surprisingly', 1445), ('released', 1446), ('ranks', 1447), ('journey', 1448), ('memories', 1449), ('billy', 1450), ('possibly', 1451), ('trilogy', 1452), ('smart', 1453), ('stage', 1454), ('actresses', 1455), ('scared', 1456), ('learn', 1457), ('values', 1458), ('photography', 1459), ('huston', 1460), ('ruthless', 1461), ('war', 1462), ('example', 1463), ('angel', 1464), ('clich', 1465), ('thrown', 1466), ('scale', 1467), ('score', 1468), ('frightening', 1469), ('oscar', 1470), ('knew', 1471), ('stanwyck', 1472), ('footage', 1473), ('sort', 1474), ('race', 1475), ('happen', 1476), ('unconvincing', 1477), ('produced', 1478), ('early', 1479), ('documentary', 1480), ('martin', 1481), ('racial', 1482), ('credit', 1483), ('watchable', 1484), ('nonsense', 1485), ('south', 1486), ('wilkinson', 1487), ('laughable', 1488), ('giallo', 1489), ('emotions', 1490), ('write', 1491), ('writer', 1492), ('puppets', 1493), ('miyazaki', 1494), ('animation', 1495), ('major', 1496), ('dozen', 1497), ('extended', 1498), ('notice', 1499), ('tooth', 1500), ('unusable', 1501), ('contract', 1502), ('juice', 1503), ('regarding', 1504), ('pda', 1505), ('neat', 1506), ('gadget', 1507), ('essentially', 1508), ('microsoft', 1509), ('tech', 1510), ('elegant', 1511), ('angle', 1512), ('mp3', 1513), ('skip', 1514), ('lock', 1515), ('died', 1516), ('situations', 1517), ('docking', 1518), ('advertised', 1519), ('handy', 1520), ('cheaper', 1521), ('seamlessly', 1522), ('buyer', 1523), ('apparently', 1524), ('relatively', 1525), ('resolution', 1526), ('slim', 1527), ('toast', 1528), ('sleek', 1529), ('compromise', 1530), ('basic', 1531), ('keypad', 1532), ('unhappy', 1533), ('winner', 1534), ('realize', 1535), ('careful', 1536), ('logitech', 1537), ('recognition', 1538), ('stated', 1539), ('blackberry', 1540), ('technology', 1541), ('wired', 1542), ('messages', 1543), ('faster', 1544), ('build', 1545), ('colors', 1546), ('w', 1547), ('whine', 1548), ('maintain', 1549), ('shouldn', 1550), ('humans', 1551), ('button', 1552), ('thank', 1553), ('igo', 1554), ('tips', 1555), ('connected', 1556), ('latest', 1557), ('storage', 1558), ('buzzing', 1559), ('override', 1560), ('functionality', 1561), ('ring', 1562), ('tone', 1563), ('dropping', 1564), ('weight', 1565), ('hardly', 1566), ('ends', 1567), ('consumer', 1568), ('background', 1569), ('usually', 1570), ('excited', 1571), ('additional', 1572), ('gels', 1573), ('purpose', 1574), ('secure', 1575), ('o', 1576), ('gosh', 1577), ('attractive', 1578), ('rubber', 1579), ('smell', 1580), ('unbearable', 1581), ('caused', 1582), ('flimsy', 1583), ('month', 1584), ('flawlessly', 1585), ('rotating', 1586), ('thru', 1587), ('cat', 1588), ('removing', 1589), ('compliments', 1590), ('state', 1591), ('allow', 1592), ('dialing', 1593), ('ipod', 1594), ('recharge', 1595), ('practically', 1596), ('add', 1597), ('boost', 1598), ('finished', 1599), ('ringing', 1600), ('auto', 1601), ('reverse', 1602), ('hurt', 1603), ('push', 1604), ('skype', 1605), ('shipped', 1606), ('promptly', 1607), ('prompt', 1608), ('noticed', 1609), ('colored', 1610), ('cheaply', 1611), ('att', 1612), ('distorted', 1613), ('forgot', 1614), ('model', 1615), ('finds', 1616), ('enter', 1617), ('modest', 1618), ('dying', 1619), ('built', 1620), ('install', 1621), ('purchasing', 1622), ('moto', 1623), ('figure', 1624), ('key', 1625), ('fully', 1626), ('memory', 1627), ('card', 1628), ('timely', 1629), ('update', 1630), ('cumbersome', 1631), ('delivery', 1632), ('vx', 1633), ('switch', 1634), ('batteries', 1635), ('receiving', 1636), ('exchanged', 1637), ('cellphone', 1638), ('described', 1639), ('nyc', 1640), ('defective', 1641), ('unacceptable', 1642), ('catching', 1643), ('function', 1644), ('timeframe', 1645), ('complaint', 1646), ('standard', 1647), ('ugly', 1648), ('improvement', 1649), ('accidentally', 1650), ('listening', 1651), ('kitchen', 1652), ('conversation', 1653), ('practical', 1654), ('ample', 1655), ('eargels', 1656), ('channel', 1657), ('numerous', 1658), ('frustration', 1659), ('understanding', 1660), ('wire', 1661), ('menus', 1662), ('broken', 1663), ('development', 1664), ('knows', 1665), ('operate', 1666), ('paired', 1667), ('normally', 1668), ('brand', 1669), ('players', 1670), ('comments', 1671), ('performed', 1672), ('echo', 1673), ('warranty', 1674), ('produce', 1675), ('luck', 1676), ('exchange', 1677), ('utter', 1678), ('download', 1679), ('designed', 1680), ('smoothly', 1681), ('study', 1682), ('access', 1683), ('somehow', 1684), ('flash', 1685), ('choices', 1686), ('tones', 1687), ('prime', 1688), ('jack', 1689), ('accept', 1690), ('except', 1691), ('allows', 1692), ('open', 1693), ('allowing', 1694), ('numbers', 1695), ('crashed', 1696), ('quit', 1697), ('via', 1698), ('span', 1699), ('signs', 1700), ('sizes', 1701), ('provides', 1702), ('classy', 1703), ('mainly', 1704), ('metro', 1705), ('smoke', 1706), ('carries', 1707), ('highest', 1708), ('protector', 1709), ('wont', 1710), ('impossible', 1711), ('refused', 1712), ('discount', 1713), ('talking', 1714), ('telephone', 1715), ('ordering', 1716), ('awkward', 1717), ('row', 1718), ('current', 1719), ('answer', 1720), ('read', 1721), ('laptop', 1722), ('sister', 1723), ('discomfort', 1724), ('normal', 1725), ('confusing', 1726), ('lose', 1727), ('cutouts', 1728), ('cuts', 1729), ('wild', 1730), ('carry', 1731), ('loose', 1732), ('receive', 1733), ('lightly', 1734), ('against', 1735), ('z', 1736), ('certain', 1737), ('unsatisfactory', 1738), ('hype', 1739), ('covered', 1740), ('falls', 1741), ('blew', 1742), ('touches', 1743), ('crust', 1744), ('angry', 1745), ('cashier', 1746), ('mmmm', 1747), ('blah', 1748), ('street', 1749), ('overwhelmed', 1750), ('bite', 1751), ('familiar', 1752), ('favor', 1753), ('drag', 1754), ('grossed', 1755), ('positive', 1756), ('generic', 1757), ('refreshing', 1758), ('char', 1759), ('chow', 1760), ('attitudes', 1761), ('customers', 1762), ('portion', 1763), ('attack', 1764), ('grill', 1765), ('downtown', 1766), ('scallop', 1767), ('refill', 1768), ('struggle', 1769), ('wave', 1770), ('appetizers', 1771), ('batter', 1772), ('finish', 1773), ('meh', 1774), ('min', 1775), ('seasoned', 1776), ('opportunity', 1777), ('underwhelming', 1778), ('relationship', 1779), ('grease', 1780), ('trap', 1781), ('turkey', 1782), ('roast', 1783), ('sugary', 1784), ('six', 1785), ('die', 1786), ('largely', 1787), ('bye', 1788), ('serves', 1789), ('roasted', 1790), ('garlic', 1791), ('marrow', 1792), ('mary', 1793), ('afternoon', 1794), ('bartender', 1795), ('lovers', 1796), ('preparing', 1797), ('indian', 1798), ('further', 1799), ('lack', 1800), ('reasons', 1801), ('phenomenal', 1802), ('crispy', 1803), ('tuna', 1804), ('bagels', 1805), ('dine', 1806), ('rarely', 1807), ('curry', 1808), ('bathrooms', 1809), ('decorated', 1810), ('middle', 1811), ('greeted', 1812), ('highlights', 1813), ('joint', 1814), ('caught', 1815), ('judging', 1816), ('overcooked', 1817), ('charcoal', 1818), ('decided', 1819), ('dirt', 1820), ('gyros', 1821), ('valley', 1822), ('readers', 1823), ('bowl', 1824), ('disrespected', 1825), ('lived', 1826), ('stepped', 1827), ('gold', 1828), ('puree', 1829), ('corn', 1830), ('bug', 1831), ('shower', 1832), ('bisque', 1833), ('filet', 1834), ('pepper', 1835), ('hopefully', 1836), ('cook', 1837), ('whenever', 1838), ('dealing', 1839), ('cheeseburger', 1840), ('events', 1841), ('yum', 1842), ('mayo', 1843), ('building', 1844), ('delights', 1845), ('based', 1846), ('creamy', 1847), ('similar', 1848), ('tough', 1849), ('sticks', 1850), ('tap', 1851), ('thus', 1852), ('coffee', 1853), ('boba', 1854), ('taco', 1855), ('bachi', 1856), ('salads', 1857), ('neighborhood', 1858), ('soooo', 1859), ('prepared', 1860), ('stir', 1861), ('box', 1862), ('atrocious', 1863), ('summer', 1864), ('toasted', 1865), ('english', 1866), ('public', 1867), ('serve', 1868), ('bites', 1869), ('omg', 1870), ('brick', 1871), ('oven', 1872), ('pancakes', 1873), ('eggs', 1874), ('sharply', 1875), ('evening', 1876), ('lukewarm', 1877), ('ball', 1878), ('eggplant', 1879), ('disgrace', 1880), ('stuffed', 1881), ('mall', 1882), ('brings', 1883), ('perfection', 1884), ('impeccable', 1885), ('pop', 1886), ('assure', 1887), ('teeth', 1888), ('professional', 1889), ('ground', 1890), ('pile', 1891), ('expert', 1892), ('wants', 1893), ('nicest', 1894), ('biscuits', 1895), ('cow', 1896), ('dollars', 1897), ('difference', 1898), ('driest', 1899), ('tots', 1900), ('acknowledged', 1901), ('forgetting', 1902), ('margaritas', 1903), ('flower', 1904), ('group', 1905), ('limited', 1906), ('crab', 1907), ('legs', 1908), ('extraordinary', 1909), ('sliced', 1910), ('gas', 1911), ('sign', 1912), ('filling', 1913), ('monster', 1914), ('typical', 1915), ('choose', 1916), ('opinion', 1917), ('entrees', 1918), ('sample', 1919), ('tapas', 1920), ('vinegrette', 1921), ('hearts', 1922), ('forth', 1923), ('helped', 1924), ('guests', 1925), ('presentation', 1926), ('miss', 1927), ('satisfying', 1928), ('tongue', 1929), ('cheek', 1930), ('grilled', 1931), ('focused', 1932), ('promise', 1933), ('deliver', 1934), ('sit', 1935), ('legit', 1936), ('personally', 1937), ('staying', 1938), ('fail', 1939), ('plate', 1940), ('serving', 1941), ('famous', 1942), ('reminded', 1943), ('tonight', 1944), ('fly', 1945), ('ryan', 1946), ('awkwardly', 1947), ('wide', 1948), ('array', 1949), ('thick', 1950), ('older', 1951), ('mid', 1952), ('definately', 1953), ('sour', 1954), ('traditional', 1955), ('smells', 1956), ('club', 1957), ('flavorless', 1958), ('nachos', 1959), ('court', 1960), ('kid', 1961), ('brother', 1962), ('tribute', 1963), ('fell', 1964), ('suggest', 1965), ('consistent', 1966), ('blown', 1967), ('fair', 1968), ('services', 1969), ('round', 1970), ('disbelief', 1971), ('version', 1972), ('heat', 1973), ('deep', 1974), ('class', 1975), ('unique', 1976), ('japanese', 1977), ('correct', 1978), ('heads', 1979), ('undercooked', 1980), ('indoor', 1981), ('fill', 1982), ('avoided', 1983), ('vomited', 1984), ('circumstances', 1985), ('tops', 1986), ('hasn', 1987), ('closed', 1988), ('hadn', 1989), ('whom', 1990), ('angles', 1991), ('became', 1992), ('jimmy', 1993), ('sisters', 1994), ('terms', 1995), ('masterpiece', 1996), ('masterpieces', 1997), ('imaginable', 1998), ('pieces', 1999), ('create', 2000), ('levels', 2001), ('canada', 2002), ('sequel', 2003), ('unfunny', 2004), ('morgan', 2005), ('jonah', 2006), ('lazy', 2007), ('presence', 2008), ('obvious', 2009), ('lesser', 2010), ('french', 2011), ('whiny', 2012), ('future', 2013), ('9', 2014), ('warmth', 2015), ('delivering', 2016), ('unpredictable', 2017), ('badly', 2018), ('alexander', 2019), ('artist', 2020), ('superbly', 2021), ('b', 2022), ('heaven', 2023), ('lives', 2024), ('church', 2025), ('uplifting', 2026), ('frankly', 2027), ('lane', 2028), ('chick', 2029), ('bold', 2030), ('helps', 2031), ('idiot', 2032), ('accused', 2033), ('afraid', 2034), ('tremendously', 2035), ('sandra', 2036), ('bullock', 2037), ('moments', 2038), ('losing', 2039), ('ratings', 2040), ('dramatic', 2041), ('tension', 2042), ('central', 2043), ('themes', 2044), ('core', 2045), ('following', 2046), ('viewing', 2047), ('quinn', 2048), ('disliked', 2049), ('mad', 2050), ('cardboard', 2051), ('predictably', 2052), ('crafted', 2053), ('depressing', 2054), ('racism', 2055), ('charisma', 2056), ('explanation', 2057), ('wayne', 2058), ('noteworthy', 2059), ('blood', 2060), ('jamie', 2061), ('genius', 2062), ('hence', 2063), ('mishima', 2064), ('uninteresting', 2065), ('chilly', 2066), ('culture', 2067), ('schrader', 2068), ('realistic', 2069), ('talent', 2070), ('chance', 2071), ('senses', 2072), ('june', 2073), ('matter', 2074), ('noir', 2075), ('complex', 2076), ('psychological', 2077), ('soul', 2078), ('gripping', 2079), ('disturbing', 2080), ('jerky', 2081), ('camerawork', 2082), ('witty', 2083), ('ceases', 2084), ('directors', 2085), ('visually', 2086), ('spoiler', 2087), ('remaining', 2088), ('suffering', 2089), ('smile', 2090), ('coppola', 2091), ('unfolds', 2092), ('contrast', 2093), ('sublime', 2094), ('offensive', 2095), ('poetry', 2096), ('masterful', 2097), ('nature', 2098), ('female', 2099), ('nuts', 2100), ('dangerous', 2101), ('reactions', 2102), ('twist', 2103), ('shed', 2104), ('underneath', 2105), ('assistant', 2106), ('laugh', 2107), ('de', 2108), ('taped', 2109), ('wholesome', 2110), ('portraying', 2111), ('taking', 2112), ('attempts', 2113), ('situation', 2114), ('bear', 2115), ('kinda', 2116), ('question', 2117), ('lucy', 2118), ('america', 2119), ('composition', 2120), ('brian', 2121), ('member', 2122), ('identify', 2123), ('connery', 2124), ('robert', 2125), ('murdered', 2126), ('humour', 2127), ('hollywood', 2128), ('undoubtedly', 2129), ('popular', 2130), ('european', 2131), ('junkyard', 2132), ('dogs', 2133), ('american', 2134), ('americans', 2135), ('continuity', 2136), ('directorial', 2137), ('proud', 2138), ('sand', 2139), ('sake', 2140), ('jobs', 2141), ('fox', 2142), ('unrecognizable', 2143), ('relations', 2144), ('taylor', 2145), ('surprising', 2146), ('entirely', 2147), ('cheesy', 2148), ('proceedings', 2149), ('remotely', 2150), ('mercy', 2151), ('killing', 2152), ('overacting', 2153), ('hackneyed', 2154), ('balanced', 2155), ('length', 2156), ('air', 2157), ('creates', 2158), ('fascinating', 2159), ('humorous', 2160), ('filmed', 2161), ('thoughts', 2162), ('dislike', 2163), ('began', 2164), ('change', 2165), ('season', 2166), ('contains', 2167), ('reality', 2168), ('century', 2169), ('implausible', 2170), ('jean', 2171), ('studio', 2172), ('start', 2173), ('betty', 2174), ('aside', 2175), ('mouse', 2176), ('pleaser', 2177), ('among', 2178), ('terribly', 2179), ('deserving', 2180), ('shame', 2181), ('dumb', 2182), ('zombie', 2183), ('notable', 2184), ('opening', 2185), ('sequence', 2186), ('sum', 2187), ('asleep', 2188), ('cartoons', 2189), ('deserved', 2190), ('element', 2191), ('fifteen', 2192), ('volcano', 2193), ('abysmal', 2194), ('vomit', 2195), ('dedication', 2196), ('versus', 2197), ('focus', 2198), ('underlying', 2199), ('relationships', 2200), ('engaging', 2201), ('errol', 2202), ('flynn', 2203), ('dull', 2204), ('surrounding', 2205), ('excellently', 2206), ('sci', 2207), ('revealing', 2208), ('africa', 2209), ('process', 2210), ('shakespear', 2211), ('macbeth', 2212), ('brief', 2213), ('moral', 2214), ('decay', 2215), ('forces', 2216), ('evil', 2217), ('adaptation', 2218), ('costumes', 2219), ('documentaries', 2220), ('joe', 2221), ('watkins', 2222), ('peter', 2223), ('hollow', 2224), ('ass', 2225), ('cole', 2226), ('sleep', 2227), ('achievement', 2228), ('earth', 2229), ('emily', 2230), ('watson', 2231), ('compelling', 2232), ('sentiment', 2233), ('fulci', 2234), ('genre', 2235), ('result', 2236), ('slightest', 2237), ('duet', 2238), ('astronaut', 2239), ('doctor', 2240), ('courtroom', 2241), ('discovering', 2242), ('understated', 2243), ('male', 2244), ('neil', 2245), ('childhood', 2246), ('lord', 2247), ('spoil', 2248), ('references', 2249), ('act', 2250), ('pacing', 2251), ('dreams', 2252), ('uses', 2253), ('loneliness', 2254), ('emilio', 2255), ('estevez', 2256), ('interplay', 2257), ('natural', 2258), ('depicts', 2259), ('ponyo', 2260), ('lange', 2261), ('converter', 2262), ('tied', 2263), ('jiggle', 2264), ('hundred', 2265), ('seperated', 2266), ('mere', 2267), ('ft', 2268), ('excessive', 2269), ('garbled', 2270), ('fooled', 2271), ('clicks', 2272), ('mechanism', 2273), ('followed', 2274), ('directions', 2275), ('kindle', 2276), ('commercials', 2277), ('misleading', 2278), ('couldnt', 2279), ('earphone', 2280), ('breakage', 2281), ('unacceptible', 2282), ('ideal', 2283), ('whose', 2284), ('sensitive', 2285), ('freeway', 2286), ('ac', 2287), ('highy', 2288), ('mins', 2289), ('2mp', 2290), ('pics', 2291), ('arguing', 2292), ('bulky', 2293), ('usable', 2294), ('useful', 2295), ('stream', 2296), ('submerged', 2297), ('faceplates', 2298), ('drawback', 2299), ('pause', 2300), ('activated', 2301), ('suddenly', 2302), ('ipods', 2303), ('bmw', 2304), ('hearing', 2305), ('wrongly', 2306), ('everyday', 2307), ('intended', 2308), ('runs', 2309), ('greater', 2310), ('buds', 2311), ('waaay', 2312), ('bluetooths', 2313), ('listener', 2314), ('integrated', 2315), ('flush', 2316), ('toilet', 2317), ('styles', 2318), ('correctly', 2319), ('megapixels', 2320), ('renders', 2321), ('images', 2322), ('purcashed', 2323), ('geeky', 2324), ('oozes', 2325), ('embedded', 2326), ('stylish', 2327), ('qwerty', 2328), ('simpler', 2329), ('iam', 2330), ('disapoinment', 2331), ('accompanied', 2332), ('nicely', 2333), ('damage', 2334), ('definitly', 2335), ('majority', 2336), ('peachy', 2337), ('keen', 2338), ('upstairs', 2339), ('basement', 2340), ('reccomendation', 2341), ('relative', 2342), ('items', 2343), ('sudden', 2344), ('linking', 2345), ('curve', 2346), ('sketchy', 2347), ('web', 2348), ('browsing', 2349), ('significantly', 2350), ('unlike', 2351), ('communications', 2352), ('communicate', 2353), ('monkeys', 2354), ('dna', 2355), ('copy', 2356), ('bougth', 2357), ('l7c', 2358), ('mode', 2359), ('file', 2360), ('browser', 2361), ('hs', 2362), ('os', 2363), ('v1', 2364), ('crawl', 2365), ('recognizes', 2366), ('bluetoooth', 2367), ('thorn', 2368), ('abhor', 2369), ('disconnected', 2370), ('mail', 2371), ('backlight', 2372), ('message', 2373), ('lately', 2374), ('wit', 2375), ('pleather', 2376), ('deaf', 2377), ('prettier', 2378), ('investment', 2379), ('ticking', 2380), ('noises', 2381), ('electronics', 2382), ('available', 2383), ('fm', 2384), ('transmitters', 2385), ('h', 2386), ('mega', 2387), ('pixel', 2388), ('good7', 2389), ('transmit', 2390), ('contacting', 2391), ('dollar', 2392), ('learned', 2393), ('lesson', 2394), ('online', 2395), ('earbugs', 2396), ('roam', 2397), ('crack', 2398), ('infatuated', 2399), ('freezes', 2400), ('frequently4', 2401), ('tick', 2402), ('headbands', 2403), ('ericsson', 2404), ('purchases', 2405), ('shine', 2406), ('calendar', 2407), ('sync', 2408), ('defeats', 2409), ('penny', 2410), ('wallet', 2411), ('excrutiatingly', 2412), ('glove', 2413), ('durable', 2414), ('factor', 2415), ('petroleum', 2416), ('stereo', 2417), ('absolutel', 2418), ('potentially', 2419), ('reversible', 2420), ('contstruct', 2421), ('hinge', 2422), ('installed', 2423), ('overnite', 2424), ('handset', 2425), ('attacked', 2426), ('protective', 2427), ('destroying', 2428), ('razor', 2429), ('v3i', 2430), ('shouldve', 2431), ('invented', 2432), ('sooner', 2433), ('engineered', 2434), ('complained', 2435), ('tracfone', 2436), ('instruction', 2437), ('manual', 2438), ('alarm', 2439), ('clock', 2440), ('antena', 2441), ('compared', 2442), ('usage', 2443), ('ngage', 2444), ('earbuds', 2445), ('riingtones', 2446), ('rip', 2447), ('frequentyly', 2448), ('adhesive', 2449), ('concrete', 2450), ('knock', 2451), ('wood', 2452), ('transformed', 2453), ('organizational', 2454), ('capability', 2455), ('vehicle', 2456), ('cradle', 2457), ('jerks', 2458), ('starter', 2459), ('loudspeaker', 2460), ('option', 2461), ('bumpers', 2462), ('lights', 2463), ('improve', 2464), ('leaks', 2465), ('according', 2466), ('applifies', 2467), ('specially', 2468), ('transmission', 2469), ('drivng', 2470), ('tape', 2471), ('embarassing', 2472), ('protects', 2473), ('operates', 2474), ('soyo', 2475), ('portraits', 2476), ('exterior', 2477), ('mentioned', 2478), ('gadgets', 2479), ('magical', 2480), ('comparably', 2481), ('offering', 2482), ('encourage', 2483), ('recieve', 2484), ('cradles', 2485), ('kits', 2486), ('excelent', 2487), ('cingulair', 2488), ('nicer', 2489), ('hoursthe', 2490), ('thereplacement', 2491), ('yell', 2492), ('iriver', 2493), ('spinn', 2494), ('fond', 2495), ('magnetic', 2496), ('strap', 2497), ('psyched', 2498), ('appointments', 2499), ('sanyo', 2500), ('survived', 2501), ('dozens', 2502), ('blacktop', 2503), ('ill', 2504), ('earphones', 2505), ('cellular', 2506), ('awsome', 2507), ('drained', 2508), ('earpad', 2509), ('displeased', 2510), ('defect', 2511), ('risk', 2512), ('restored', 2513), ('jx', 2514), ('searched', 2515), ('pad', 2516), ('lit', 2517), ('portable', 2518), ('colleague', 2519), ('bed', 2520), ('wi', 2521), ('morning', 2522), ('hat', 2523), ('shipment', 2524), ('surefire', 2525), ('gx2', 2526), ('buyers', 2527), ('remorse', 2528), ('accessoryone', 2529), ('inexcusable', 2530), ('carriers', 2531), ('tmobile', 2532), ('procedure', 2533), ('motorolas', 2534), ('env', 2535), ('rocketed', 2536), ('destination', 2537), ('unknown', 2538), ('conditions', 2539), ('usefulness', 2540), ('bills', 2541), ('plans', 2542), ('overnight', 2543), ('respect', 2544), ('stuck', 2545), ('max', 2546), ('mute', 2547), ('hybrid', 2548), ('palmtop', 2549), ('excels', 2550), ('bose', 2551), ('cancelling', 2552), ('commuter', 2553), ('photo', 2554), ('ad', 2555), ('noted', 2556), ('happens', 2557), ('frog', 2558), ('pushed', 2559), ('aluminum', 2560), ('protected', 2561), ('handheld', 2562), ('tools', 2563), ('sturdiness', 2564), ('source', 2565), ('waterproof', 2566), ('sliding', 2567), ('pants', 2568), ('pockets', 2569), ('shield', 2570), ('incrediable', 2571), ('refuse', 2572), ('activate', 2573), ('gentle', 2574), ('threw', 2575), ('window', 2576), ('inches', 2577), ('counter', 2578), ('cracked', 2579), ('laughing', 2580), ('trunk', 2581), ('carried', 2582), ('hitch', 2583), ('directly', 2584), ('increase', 2585), ('shifting', 2586), ('bubbling', 2587), ('peeling', 2588), ('scratch', 2589), ('droid', 2590), ('exercise', 2591), ('earset', 2592), ('outgoing', 2593), ('package', 2594), ('patient', 2595), ('wirefly', 2596), ('contact', 2597), ('inform', 2598), ('practice', 2599), ('aggravating', 2600), ('virgin', 2601), ('muddy', 2602), ('casing', 2603), ('insert', 2604), ('glued', 2605), ('slid', 2606), ('plantronincs', 2607), ('continues', 2608), ('disapointing', 2609), ('fourth', 2610), ('fixes', 2611), ('accessing', 2612), ('downloading', 2613), ('performing', 2614), ('functions', 2615), ('constantly', 2616), ('happening', 2617), ('adapters', 2618), ('procedures', 2619), ('wiping', 2620), ('strength', 2621), ('louder', 2622), ('navigate', 2623), ('recessed', 2624), ('avoiding', 2625), ('smoking', 2626), ('linked', 2627), ('possesed', 2628), ('research', 2629), ('division', 2630), ('infuriating', 2631), ('walkman', 2632), ('charges', 2633), ('europe', 2634), ('asia', 2635), ('clipping', 2636), ('deffinitely', 2637), ('cent', 2638), ('behing', 2639), ('comfortible', 2640), ('pain', 2641), ('arrival', 2642), ('fraction', 2643), ('crappy', 2644), ('seeen', 2645), ('interface', 2646), ('decade', 2647), ('compete', 2648), ('designs', 2649), ('transceiver', 2650), ('steer', 2651), ('replacementr', 2652), ('pens', 2653), ('buyit', 2654), ('beats', 2655), ('fingers', 2656), ('steep', 2657), ('haul', 2658), ('dissapointing', 2659), ('originally', 2660), ('discarded', 2661), ('posted', 2662), ('detailed', 2663), ('grey', 2664), ('existing', 2665), ('cds', 2666), ('currently', 2667), ('shooters', 2668), ('delay', 2669), ('messes', 2670), ('bitpim', 2671), ('program', 2672), ('transfer', 2673), ('accessory', 2674), ('manufacturer', 2675), ('muffled', 2676), ('incoming', 2677), ('severe', 2678), ('resistant', 2679), ('contacted', 2680), ('receipt', 2681), ('linksys', 2682), ('refurb', 2683), ('snug', 2684), ('heavy', 2685), ('promised', 2686), ('loop', 2687), ('latch', 2688), ('visor', 2689), ('address', 2690), ('reboots', 2691), ('tungsten', 2692), ('e2', 2693), ('flipphones', 2694), ('sins', 2695), ('industrial', 2696), ('tracking', 2697), ('detachable', 2698), ('periodically', 2699), ('upload', 2700), ('locks', 2701), ('screens', 2702), ('randomly', 2703), ('locked', 2704), ('worn', 2705), ('ringer', 2706), ('acceptable', 2707), ('upbeat', 2708), ('forgeries', 2709), ('abound', 2710), ('ca', 2711), ('smallest', 2712), ('stays', 2713), ('drains', 2714), ('superfast', 2715), ('ergonomic', 2716), ('theory', 2717), ('clips', 2718), ('distracting', 2719), ('cbr', 2720), ('mp3s', 2721), ('preferably', 2722), ('windows', 2723), ('media', 2724), ('sos', 2725), ('signals', 2726), ('connect', 2727), ('near', 2728), ('startac', 2729), ('regretted', 2730), ('outperform', 2731), ('china', 2732), ('sim', 2733), ('3o', 2734), ('replaced', 2735), ('4s', 2736), ('connecting', 2737), ('sources', 2738), ('imac', 2739), ('external', 2740), ('bells', 2741), ('whistles', 2742), ('slide', 2743), ('grip', 2744), ('prevents', 2745), ('slipping', 2746), ('exclaim', 2747), ('whoa', 2748), ('corded', 2749), ('functional', 2750), ('soft', 2751), ('tight', 2752), ('shape', 2753), ('copier', 2754), ('sent', 2755), ('anywhere', 2756), ('sold', 2757), ('units', 2758), ('krussel', 2759), ('tracfonewebsite', 2760), ('toactivate', 2761), ('texas', 2762), ('dit', 2763), ('blueant', 2764), ('supertooth', 2765), ('pcs', 2766), ('sch', 2767), ('slider', 2768), ('premium', 2769), ('plugs', 2770), ('capacity', 2771), ('confortable', 2772), ('periods', 2773), ('ant', 2774), ('hey', 2775), ('pleasantly', 2776), ('suprised', 2777), ('dustpan', 2778), ('indoors', 2779), ('disposable', 2780), ('puff', 2781), ('ride', 2782), ('smoother', 2783), ('nano', 2784), ('dissapointed', 2785), ('reccommend', 2786), ('anti', 2787), ('glare', 2788), ('smartphone', 2789), ('atleast', 2790), ('amp', 2791), ('reoccure', 2792), ('somewhere', 2793), ('creaks', 2794), ('floor', 2795), ('apartment', 2796), ('inconspicuous', 2797), ('slowly', 2798), ('upgrade', 2799), ('securly', 2800), ('possibility', 2801), ('booking', 2802), ('entertainment', 2803), ('communication', 2804), ('activesync', 2805), ('optimal', 2806), ('synchronization', 2807), ('coupon', 2808), ('instance', 2809), ('ps3', 2810), ('cheapy', 2811), ('shouting', 2812), ('shiny', 2813), ('grtting', 2814), ('v3c', 2815), ('exceeds', 2816), ('sight', 2817), ('improper', 2818), ('palms', 2819), ('hoped', 2820), ('pads', 2821), ('stops', 2822), ('intermittently', 2823), ('reaching', 2824), ('keys', 2825), ('nightmare', 2826), ('speakerphone', 2827), ('cassette', 2828), ('cellphones', 2829), ('planning', 2830), ('products', 2831), ('sensor', 2832), ('reliability', 2833), ('beeping', 2834), ('dieing', 2835), ('ir', 2836), ('cancellation', 2837), ('counterfeit', 2838), ('travled', 2839), ('swivel', 2840), ('dual', 2841), ('keeping', 2842), ('bottowm', 2843), ('gimmick', 2844), ('opens', 2845), ('causing', 2846), ('trust', 2847), ('maintains', 2848), ('flawless', 2849), ('devices', 2850), ('holder', 2851), ('land', 2852), ('loops', 2853), ('owning', 2854), ('official', 2855), ('oem', 2856), ('loudest', 2857), ('competitors', 2858), ('saved', 2859), ('alot', 2860), ('unintelligible', 2861), ('restart', 2862), ('bend', 2863), ('leaf', 2864), ('metal', 2865), ('stress', 2866), ('leopard', 2867), ('print', 2868), ('saggy', 2869), ('floppy', 2870), ('looses', 2871), ('[', 2872), (']', 2873), ('snap', 2874), ('fliptop', 2875), ('wobbly', 2876), ('eventually', 2877), ('fulfills', 2878), ('requirements', 2879), ('rests', 2880), ('websites', 2881), ('cables', 2882), ('lap', 2883), ('controls', 2884), ('accessable', 2885), ('mine', 2886), ('satisifed', 2887), ('specs', 2888), ('armband', 2889), ('allot', 2890), ('clearer', 2891), ('keypads', 2892), ('reach', 2893), ('ericson', 2894), ('motor', 2895), ('center', 2896), ('voltage', 2897), ('humming', 2898), ('equipment', 2899), ('wake', 2900), ('styling', 2901), ('restocking', 2902), ('fee', 2903), ('darn', 2904), ('sweetest', 2905), ('securely', 2906), ('hook', 2907), ('canal', 2908), ('videos', 2909), ('negatively', 2910), ('adapter', 2911), ('provide', 2912), ('assumed', 2913), ('lense', 2914), ('text', 2915), ('messaging', 2916), ('tricky', 2917), ('lasted', 2918), ('flops', 2919), ('smudged', 2920), ('infra', 2921), ('port', 2922), ('irda', 2923), ('bank', 2924), ('holiday', 2925), ('rick', 2926), ('honeslty', 2927), ('ahead', 2928), ('warmer', 2929), ('wayyy', 2930), ('cape', 2931), ('cod', 2932), ('ravoli', 2933), ('cranberry', 2934), ('disgusted', 2935), ('shocked', 2936), ('indicate', 2937), ('cash', 2938), ('burrittos', 2939), ('interior', 2940), ('velvet', 2941), ('cake', 2942), ('ohhh', 2943), ('hole', 2944), ('luke', 2945), ('sever', 2946), ('combos', 2947), ('blow', 2948), ('accident', 2949), ('grab', 2950), ('pub', 2951), ('hiro', 2952), ('melted', 2953), ('styrofoam', 2954), ('pucks', 2955), ('disgust', 2956), ('register', 2957), ('rib', 2958), ('section', 2959), ('firehouse', 2960), ('pink', 2961), ('mein', 2962), ('lined', 2963), ('strings', 2964), ('banana', 2965), ('petrified', 2966), ('receives', 2967), ('cocktails', 2968), ('handmade', 2969), ('military', 2970), ('dos', 2971), ('gringos', 2972), ('tastings', 2973), ('jeff', 2974), ('milkshake', 2975), ('chocolate', 2976), ('milk', 2977), ('excalibur', 2978), ('common', 2979), ('cheated', 2980), ('experiencing', 2981), ('parties', 2982), ('smelled', 2983), ('pan', 2984), ('cakes', 2985), ('raving', 2986), ('tailored', 2987), ('palate', 2988), ('ratio', 2989), ('tenders', 2990), ('unsatisfying', 2991), ('omelets', 2992), ('sexy', 2993), ('outrageously', 2994), ('flirting', 2995), ('hottest', 2996), ('rock', 2997), ('casino', 2998), ('forward', 2999), ('bone', 3000), ('bloddy', 3001), ('mussels', 3002), ('reduction', 3003), ('buffets', 3004), ('tigerlilly', 3005), ('personable', 3006), ('sooooo', 3007), ('yama', 3008), ('arriving', 3009), ('actual', 3010), ('blandest', 3011), ('cuisine', 3012), ('worries', 3013), ('loving', 3014), ('venture', 3015), ('host', 3016), ('bitches', 3017), ('liking', 3018), ('reviewing', 3019), ('venturing', 3020), ('penne', 3021), ('vodka', 3022), ('meatloaf', 3023), ('lox', 3024), ('capers', 3025), ('meet', 3026), ('weekend', 3027), ('suggestions', 3028), ('bamboo', 3029), ('shoots', 3030), ('blanket', 3031), ('moz', 3032), ('subpar', 3033), ('ignore', 3034), ('fianc', 3035), ('mandalay', 3036), ('forty', 3037), ('vain', 3038), ('crostini', 3039), ('nigiri', 3040), ('flavored', 3041), ('voodoo', 3042), ('gluten', 3043), ('leftover', 3044), ('relocated', 3045), ('diverse', 3046), ('hella', 3047), ('salty', 3048), ('spinach', 3049), ('avocado', 3050), ('ingredients', 3051), ('handed', 3052), ('listed', 3053), ('waitresses', 3054), ('lordy', 3055), ('khao', 3056), ('soi', 3057), ('accommodations', 3058), ('inspired', 3059), ('desired', 3060), ('maintaining', 3061), ('coziness', 3062), ('weekly', 3063), ('haunt', 3064), ('asking', 3065), ('verge', 3066), ('dressed', 3067), ('rudely', 3068), ('hits', 3069), ('quantity', 3070), ('lemon', 3071), ('raspberry', 3072), ('cocktail', 3073), ('imagined', 3074), ('crepe', 3075), ('bits', 3076), ('missing', 3077), ('joey', 3078), ('voted', 3079), ('magazine', 3080), ('fridays', 3081), ('blows', 3082), ('exceeding', 3083), ('dreamed', 3084), ('serivce', 3085), ('inviting', 3086), ('foot', 3087), ('mixed', 3088), ('mushrooms', 3089), ('yukon', 3090), ('beateous', 3091), ('climbing', 3092), ('tartar', 3093), ('jamaican', 3094), ('mojitos', 3095), ('rich', 3096), ('accordingly', 3097), ('rinse', 3098), ('nude', 3099), ('bussell', 3100), ('sprouts', 3101), ('risotto', 3102), ('bodes', 3103), ('wrapped', 3104), ('dates', 3105), ('otto', 3106), ('welcome', 3107), ('mains', 3108), ('uninspired', 3109), ('drunk', 3110), ('patty', 3111), ('uploaded', 3112), ('sporting', 3113), ('walls', 3114), ('descriptions', 3115), ('eel', 3116), ('sauces', 3117), ('hardest', 3118), ('rolled', 3119), ('providing', 3120), ('flavourful', 3121), ('freezing', 3122), ('ayce', 3123), ('mood', 3124), ('gratitude', 3125), ('privileged', 3126), ('silently', 3127), ('peanut', 3128), ('godfathers', 3129), ('recall', 3130), ('visited', 3131), ('proclaimed', 3132), ('wildly', 3133), ('veggitarian', 3134), ('platter', 3135), ('madison', 3136), ('ironman', 3137), ('chefs', 3138), ('dedicated', 3139), ('spots', 3140), ('jenni', 3141), ('goat', 3142), ('skimp', 3143), ('mac', 3144), ('burned', 3145), ('saganaki', 3146), ('disagree', 3147), ('fellow', 3148), ('yelpers', 3149), ('noodles', 3150), ('chip', 3151), ('count', 3152), ('greedy', 3153), ('corporation', 3154), ('dime', 3155), ('outdoor', 3156), ('muffin', 3157), ('untoasted', 3158), ('bus', 3159), ('figured', 3160), ('publicly', 3161), ('loudly', 3162), ('bbq', 3163), ('lighter', 3164), ('downside', 3165), ('shawarrrrrrma', 3166), ('eyed', 3167), ('peas', 3168), ('unreal', 3169), ('vinaigrette', 3170), ('honor', 3171), ('hut', 3172), ('coupons', 3173), ('unbelievably', 3174), ('covers', 3175), ('replenished', 3176), ('yucky', 3177), ('delicioso', 3178), ('spaghetti', 3179), ('tucson', 3180), ('chipotle', 3181), ('succulent', 3182), ('baseball', 3183), ('app', 3184), ('genuinely', 3185), ('enthusiastic', 3186), ('sadly', 3187), ('gordon', 3188), ('ramsey', 3189), ('shall', 3190), ('offered', 3191), ('handling', 3192), ('rowdy', 3193), ('despicable', 3194), ('craving', 3195), ('ache', 3196), ('elegantly', 3197), ('customize', 3198), ('bean', 3199), ('outta', 3200), ('inconsiderate', 3201), ('hi', 3202), ('dinners', 3203), ('outshining', 3204), ('halibut', 3205), ('starving', 3206), ('def', 3207), ('ethic', 3208), ('andddd', 3209), ('located', 3210), ('crystals', 3211), ('shopping', 3212), ('aria', 3213), ('summarize', 3214), ('nay', 3215), ('transcendant', 3216), ('pneumatic', 3217), ('condiment', 3218), ('dispenser', 3219), ('ians', 3220), ('kiddos', 3221), ('bouchon', 3222), ('accountant', 3223), ('screwed', 3224), ('reminds', 3225), ('shops', 3226), ('san', 3227), ('francisco', 3228), ('buldogis', 3229), ('gourmet', 3230), ('frustrated', 3231), ('petty', 3232), ('iced', 3233), ('hungry', 3234), ('sore', 3235), ('companions', 3236), ('smeared', 3237), ('tracked', 3238), ('bird', 3239), ('poop', 3240), ('furthermore', 3241), ('operation', 3242), ('connisseur', 3243), ('topic', 3244), ('jerk', 3245), ('strike', 3246), ('rushed', 3247), ('across', 3248), ('appetizer', 3249), ('absolutley', 3250), ('5lb', 3251), ('4ths', 3252), ('gristle', 3253), ('steiners', 3254), ('fs', 3255), ('pears', 3256), ('almonds', 3257), ('spicier', 3258), ('prefer', 3259), ('ribeye', 3260), ('mesquite', 3261), ('gooodd', 3262), ('connoisseur', 3263), ('mouthful', 3264), ('relaxed', 3265), ('venue', 3266), ('couples', 3267), ('groups', 3268), ('nargile', 3269), ('tater', 3270), ('southwest', 3271), ('vanilla', 3272), ('smooth', 3273), ('profiterole', 3274), ('choux', 3275), ('pastry', 3276), ('az', 3277), ('carly', 3278), ('ventilation', 3279), ('upgrading', 3280), ('letdown', 3281), ('camelback', 3282), ('shop', 3283), ('cartel', 3284), ('trimmed', 3285), ('claimed', 3286), ('jewel', 3287), ('las', 3288), ('boiled', 3289), ('toro', 3290), ('tartare', 3291), ('cavier', 3292), ('thinly', 3293), ('wagyu', 3294), ('truffle', 3295), ('attached', 3296), ('decide', 3297), ('humiliated', 3298), ('worker', 3299), ('name', 3300), ('callings', 3301), ('daily', 3302), ('specials', 3303), ('tragedy', 3304), ('pancake', 3305), ('crawfish', 3306), ('multi', 3307), ('grain', 3308), ('pumpkin', 3309), ('pecan', 3310), ('fluffy', 3311), ('airline', 3312), ('noca', 3313), ('gyro', 3314), ('lettuce', 3315), ('pastas', 3316), ('cheesecurds', 3317), ('finger', 3318), ('beauty', 3319), ('greasy', 3320), ('unhealthy', 3321), ('similarly', 3322), ('apology', 3323), ('tiramisu', 3324), ('cannoli', 3325), ('sun', 3326), ('meats', 3327), ('frenchman', 3328), ('martini', 3329), ('gc', 3330), ('thirty', 3331), ('vacant', 3332), ('yellowtail', 3333), ('carpaccio', 3334), ('strangers', 3335), ('hello', 3336), ('donut', 3337), ('saving', 3338), ('disgraceful', 3339), ('suffers', 3340), ('greens', 3341), ('hankering', 3342), ('theft', 3343), ('eew', 3344), ('overhaul', 3345), ('witnessed', 3346), ('regularly', 3347), ('swung', 3348), ('efficient', 3349), ('sucker', 3350), ('olives', 3351), ('perpared', 3352), ('giant', 3353), ('slices', 3354), ('dusted', 3355), ('powdered', 3356), ('sugar', 3357), ('fo', 3358), ('accomodate', 3359), ('vegan', 3360), ('veggie', 3361), ('crumby', 3362), ('pale', 3363), ('croutons', 3364), ('trips', 3365), ('crema', 3366), ('caf', 3367), ('expanded', 3368), ('philadelphia', 3369), ('north', 3370), ('scottsdale', 3371), ('soooooo', 3372), ('freaking', 3373), ('papers', 3374), ('reheated', 3375), ('wedges', 3376), ('absolute', 3377), ('bloody', 3378), ('businesses', 3379), ('yellow', 3380), ('saffron', 3381), ('seasoning', 3382), ('grandmother', 3383), ('ignored', 3384), ('hostess', 3385), ('boys', 3386), ('shirt', 3387), ('drastically', 3388), ('caesar', 3389), ('madhouse', 3390), ('proven', 3391), ('moods', 3392), ('macarons', 3393), ('insanely', 3394), ('informative', 3395), ('plater', 3396), ('relax', 3397), ('screams', 3398), ('somethat', 3399), ('duo', 3400), ('violinists', 3401), ('requested', 3402), ('baklava', 3403), ('falafels', 3404), ('baba', 3405), ('ganoush', 3406), ('mgm', 3407), ('courteous', 3408), ('eclectic', 3409), ('onion', 3410), ('rings', 3411), ('nobu', 3412), ('google', 3413), ('smashburger', 3414), ('lover', 3415), ('plantains', 3416), ('spends', 3417), ('panna', 3418), ('cotta', 3419), ('flavors', 3420), ('slaw', 3421), ('drenched', 3422), ('piano', 3423), ('rge', 3424), ('fillet', 3425), ('relleno', 3426), ('sergeant', 3427), ('auju', 3428), ('hawaiian', 3429), ('breeze', 3430), ('mango', 3431), ('magic', 3432), ('pineapple', 3433), ('smoothies', 3434), ('mortified', 3435), ('anyways', 3436), ('dripping', 3437), ('hospitality', 3438), ('paradise', 3439), ('refrained', 3440), ('recommending', 3441), ('cibo', 3442), ('mouths', 3443), ('bellies', 3444), ('dough', 3445), ('elk', 3446), ('hooked', 3447), ('classics', 3448), ('sorely', 3449), ('quaint', 3450), ('deliciously', 3451), ('dylan', 3452), ('tummy', 3453), ('gratuity', 3454), ('larger', 3455), ('apple', 3456), ('han', 3457), ('nan', 3458), ('edinburgh', 3459), ('revisiting', 3460), ('naan', 3461), ('pine', 3462), ('touched', 3463), ('airport', 3464), ('speedy', 3465), ('calligraphy', 3466), ('stood', 3467), ('guest', 3468), ('extensive', 3469), ('inflate', 3470), ('smaller', 3471), ('grow', 3472), ('rapidly', 3473), ('lil', 3474), ('fuzzy', 3475), ('wontons', 3476), ('spice', 3477), ('whelm', 3478), ('arepas', 3479), ('jalapeno', 3480), ('shoe', 3481), ('block', 3482), ('fancy', 3483), ('affordable', 3484), ('soups', 3485), ('sunday', 3486), ('hunan', 3487), ('flair', 3488), ('bartenders', 3489), ('nutshell', 3490), ('restaraunt', 3491), ('sewer', 3492), ('veal', 3493), ('satifying', 3494), ('join', 3495), ('email', 3496), ('colder', 3497), ('describing', 3498), ('tepid', 3499), ('chains', 3500), ('crowds', 3501), ('juries', 3502), ('lawyers', 3503), ('arrives', 3504), ('paying', 3505), ('wienerschnitzel', 3506), ('maine', 3507), ('roll', 3508), ('law', 3509), ('hereas', 3510), ('event', 3511), ('held', 3512), ('pissd', 3513), ('surprise', 3514), ('golden', 3515), ('hopes', 3516), ('bruschetta', 3517), ('devine', 3518), ('employee', 3519), ('lastly', 3520), ('mozzarella', 3521), ('negligent', 3522), ('unwelcome', 3523), ('packed', 3524), ('seasonal', 3525), ('fruit', 3526), ('peach', 3527), ('officially', 3528), ('containers', 3529), ('opposed', 3530), ('cramming', 3531), ('takeout', 3532), ('boxes', 3533), ('crêpe', 3534), ('delicate', 3535), ('kabuki', 3536), ('maria', 3537), ('article', 3538), ('spices', 3539), ('fucking', 3540), ('caballero', 3541), ('oysters', 3542), ('qualified', 3543), ('foods', 3544), ('tolerance', 3545), ('polite', 3546), ('wash', 3547), ('biscuit', 3548), ('coconut', 3549), ('fella', 3550), ('huevos', 3551), ('rancheros', 3552), ('wines', 3553), ('pricey', 3554), ('temp', 3555), ('prepare', 3556), ('bare', 3557), ('gloves', 3558), ('oil', 3559), ('pleasure', 3560), ('plethora', 3561), ('sandwiches', 3562), ('seal', 3563), ('approval', 3564), ('college', 3565), ('cooking', 3566), ('besides', 3567), ('costco', 3568), ('highlighted', 3569), ('grocery', 3570), ('dude', 3571), ('doughy', 3572), ('inch', 3573), ('ourselves', 3574), ('albondigas', 3575), ('tomato', 3576), ('meatballs', 3577), ('occasions', 3578), ('medium', 3579), ('bloodiest', 3580), ('anymore', 3581), ('chai', 3582), ('latte', 3583), ('allergy', 3584), ('warnings', 3585), ('clue', 3586), ('contain', 3587), ('peanuts', 3588), ('mediterranean', 3589), ('beers', 3590), ('highlight', 3591), ('concern', 3592), ('mellow', 3593), ('mushroom', 3594), ('strawberry', 3595), ('unprofessional', 3596), ('loyal', 3597), ('patron', 3598), ('occasional', 3599), ('pats', 3600), ('bellagio', 3601), ('anticipated', 3602), ('sals', 3603), ('fav', 3604), ('unexperienced', 3605), ('employees', 3606), ('chickens', 3607), ('steakhouse', 3608), ('concept', 3609), ('guacamole', 3610), ('pur', 3611), ('postinos', 3612), ('poisoning', 3613), ('batch', 3614), ('yay', 3615), ('eve', 3616), ('caring', 3617), ('teamwork', 3618), ('degree', 3619), ('ri', 3620), ('calamari', 3621), ('fondue', 3622), ('denny', 3623), ('downright', 3624), ('waaaaaayyyyyyyyyy', 3625), ('sangria', 3626), ('glass', 3627), ('brisket', 3628), ('trippy', 3629), ('hurry', 3630), ('reservation', 3631), ('stretch', 3632), ('cashew', 3633), ('chipolte', 3634), ('ranch', 3635), ('dipping', 3636), ('sause', 3637), ('watered', 3638), ('workers', 3639), ('douchey', 3640), ('garden', 3641), ('con', 3642), ('spotty', 3643), ('ensued', 3644), ('apologize', 3645), ('binge', 3646), ('drinking', 3647), ('carbs', 3648), ('insults', 3649), ('profound', 3650), ('deuchebaggery', 3651), ('solidify', 3652), ('combo', 3653), ('ala', 3654), ('cart', 3655), ('blame', 3656), ('rave', 3657), ('del', 3658), ('hamburger', 3659), ('ya', 3660), ('fireball', 3661), ('disapppointment', 3662), ('correction', 3663), ('heimer', 3664), ('brownish', 3665), ('ha', 3666), ('flop', 3667), ('bigger', 3668), ('unwrapped', 3669), ('mile', 3670), ('brushfire', 3671), ('mirage', 3672), ('refried', 3673), ('dried', 3674), ('crusty', 3675), ('caterpillar', 3676), ('appetite', 3677), ('instantly', 3678), ('ninja', 3679), ('poured', 3680), ('wound', 3681), ('drawing', 3682), ('aimless', 3683), ('distressed', 3684), ('drifting', 3685), ('attempting', 3686), ('artiness', 3687), ('existent', 3688), ('gerardo', 3689), ('emptiness', 3690), ('science', 3691), ('teacher', 3692), ('owls', 3693), ('florida', 3694), ('muppets', 3695), ('overdue', 3696), ('screenplay', 3697), ('post', 3698), ('structure', 3699), ('tightly', 3700), ('vitally', 3701), ('occurs', 3702), ('content', 3703), ('superlative', 3704), ('require', 3705), ('puzzle', 3706), ('solving', 3707), ('pulls', 3708), ('punches', 3709), ('th', 3710), ('insane', 3711), ('unlockable', 3712), ('aye', 3713), ('doomed', 3714), ('conception', 3715), ('minor', 3716), ('confirm', 3717), ('exaggerating', 3718), ('trailer', 3719), ('carrell', 3720), ('co', 3721), ('freeman', 3722), ('helms', 3723), ('animals', 3724), ('integration', 3725), ('translate', 3726), ('succeeds', 3727), ('meagre', 3728), ('cancan', 3729), ('boasts', 3730), ('cutest', 3731), ('leading', 3732), ('heels', 3733), ('insipid', 3734), ('efforts', 3735), ('heche', 3736), ('sam', 3737), ('shepard', 3738), ('gung', 3739), ('ho', 3740), ('marine', 3741), ('sobering', 3742), ('riveted', 3743), ('resounding', 3744), ('hanks', 3745), ('fingernails', 3746), ('chalkboard', 3747), ('unnecessary', 3748), ('train', 3749), ('roller', 3750), ('coaster', 3751), ('grates', 3752), ('nerves', 3753), ('improved', 3754), ('improvisation', 3755), ('worry', 3756), ('surroundings', 3757), ('crackles', 3758), ('youthful', 3759), ('concentrate', 3760), ('meanders', 3761), ('builders', 3762), ('cross', 3763), ('g', 3764), ('cliche', 3765), ('predict', 3766), ('verbatim', 3767), ('chills', 3768), ('nevsky', 3769), ('whoever', 3770), ('planned', 3771), ('dodge', 3772), ('stratus', 3773), ('makers', 3774), ('restrained', 3775), ('qu', 3776), ('bec', 3777), ('promote', 3778), ('suited', 3779), ('horrendous', 3780), ('retarded', 3781), ('girls', 3782), ('manna', 3783), ('evaluate', 3784), ('veteran', 3785), ('nostalgia', 3786), ('ursula', 3787), ('burton', 3788), ('nun', 3789), ('nuns', 3790), ('shirley', 3791), ('jones', 3792), ('rendition', 3793), ('cotton', 3794), ('unfaithful', 3795), ('gere', 3796), ('dialogs', 3797), ('shallow', 3798), ('insincere', 3799), ('politically', 3800), ('savant', 3801), ('peaking', 3802), ('columbo', 3803), ('neighbour', 3804), ('misplace', 3805), ('weaker', 3806), ('debated', 3807), ('sack', 3808), ('trumpeter', 3809), ('falsely', 3810), ('murder', 3811), ('applause', 3812), ('prelude', 3813), ('villain', 3814), ('michael', 3815), ('ironside', 3816), ('rocked', 3817), ('social', 3818), ('physical', 3819), ('outlets', 3820), ('ben', 3821), ('affleck', 3822), ('leaving', 3823), ('knocked', 3824), ('excruciatingly', 3825), ('wedding', 3826), ('agreed', 3827), ('aired', 3828), ('dribble', 3829), ('imdb', 3830), ('mirrormask', 3831), ('inexperience', 3832), ('meant', 3833), ('ineptly', 3834), ('stereotypically', 3835), ('schoolers', 3836), ('cry', 3837), ('relate', 3838), ('sharing', 3839), ('confuses', 3840), ('underwater', 3841), ('repeated', 3842), ('thousand', 3843), ('redeemed', 3844), ('mst3k', 3845), ('fodder', 3846), ('anthony', 3847), ('horse', 3848), ('walk', 3849), ('relief', 3850), ('pillow', 3851), ('tickets', 3852), ('identifies', 3853), ('haggis', 3854), ('handle', 3855), ('strokes', 3856), ('storytelling', 3857), ('painted', 3858), ('crayons', 3859), ('crash', 3860), ('provokes', 3861), ('emotion', 3862), ('teaches', 3863), ('prejudice', 3864), ('empowerment', 3865), ('shut', 3866), ('primal', 3867), ('impulse', 3868), ('preservation', 3869), ('shattered', 3870), ('recover', 3871), ('joins', 3872), ('revenge', 3873), ('boogeyman', 3874), ('zombiez', 3875), ('hellish', 3876), ('trinity', 3877), ('distinction', 3878), ('artless', 3879), ('endlessly', 3880), ('ugliest', 3881), ('merit', 3882), ('akin', 3883), ('atrocity', 3884), ('voyage', 3885), ('discovery', 3886), ('unrecommended', 3887), ('ms', 3888), ('garbo', 3889), ('bat', 3890), ('talents', 3891), ('netflix', 3892), ('stocking', 3893), ('renowned', 3894), ('frances', 3895), ('marion', 3896), ('suffered', 3897), ('heroes', 3898), ('shined', 3899), ('senior', 3900), ('showcasing', 3901), ('punched', 3902), ('gallon', 3903), ('spew', 3904), ('foxx', 3905), ('owns', 3906), ('spacek', 3907), ('coal', 3908), ('miner', 3909), ('quaid', 3910), ('balls', 3911), ('himself', 3912), ('legendary', 3913), ('biographical', 3914), ('musician', 3915), ('ironically', 3916), ('secondly', 3917), ('perfected', 3918), ('chase', 3919), ('pandering', 3920), ('sabotages', 3921), ('rumbles', 3922), ('desperately', 3923), ('depending', 3924), ('logic', 3925), ('unremarkable', 3926), ('author', 3927), ('abstruse', 3928), ('reenactments', 3929), ('emotionally', 3930), ('adrift', 3931), ('stagy', 3932), ('sits', 3933), ('soldiers', 3934), ('masculinity', 3935), ('pledge', 3936), ('hairsplitting', 3937), ('purity', 3938), ('admiration', 3939), ('swords', 3940), ('kill', 3941), ('momentum', 3942), ('quicker', 3943), ('resume', 3944), ('amateurish', 3945), ('fascinated', 3946), ('inconsistencies', 3947), ('horrid', 3948), ('ballet', 3949), ('repertory', 3950), ('developments', 3951), ('woa', 3952), ('sappiest', 3953), ('unwatchable', 3954), ('filmography', 3955), ('site', 3956), ('intentions', 3957), ('undertone', 3958), ('fifties', 3959), ('existential', 3960), ('weariness', 3961), ('ought', 3962), ('regrettably', 3963), ('expression', 3964), ('celebration', 3965), ('patriotism', 3966), ('underlines', 3967), ('allison', 3968), ('concert', 3969), ('sequences', 3970), ('ridiculousness', 3971), ('surface', 3972), ('conceptually', 3973), ('everybody', 3974), ('fantasy', 3975), ('considered', 3976), ('understood', 3977), ('identified', 3978), ('crime', 3979), ('belmondo', 3980), ('lino', 3981), ('ventura', 3982), ('portrayals', 3983), ('detailing', 3984), ('loyalty', 3985), ('treachery', 3986), ('melville', 3987), ('manages', 3988), ('transcend', 3989), ('limitations', 3990), ('indie', 3991), ('continually', 3992), ('subverting', 3993), ('emerge', 3994), ('intense', 3995), ('crocdodile', 3996), ('believed', 3997), ('crocs', 3998), ('swamp', 3999), ('christopher', 4000), ('eccleston', 4001), ('tardis', 4002), ('continuation', 4003), ('succeeded', 4004), ('pi', 4005), ('witticisms', 4006), ('bob', 4007), ('rise', 4008), ('finale', 4009), ('kieslowski', 4010), ('amaze', 4011), ('flag', 4012), ('connections', 4013), ('survivors', 4014), ('ferry', 4015), ('valentine', 4016), ('solidifying', 4017), ('happiness', 4018), ('dealt', 4019), ('roth', 4020), ('pearls', 4021), ('awarded', 4022), ('eloquently', 4023), ('francis', 4024), ('ford', 4025), ('gradually', 4026), ('develop', 4027), ('lies', 4028), ('nicola', 4029), ('roeg', 4030), ('wih', 4031), ('translating', 4032), ('strives', 4033), ('greatness', 4034), ('muddled', 4035), ('disparate', 4036), ('accurately', 4037), ('defined', 4038), ('tolerate', 4039), ('political', 4040), ('incorrectness', 4041), ('artistic', 4042), ('suspension', 4043), ('slavic', 4044), ('outlandish', 4045), ('psychotic', 4046), ('lovable', 4047), ('enjoyment', 4048), ('repair', 4049), ('bitchy', 4050), ('boss', 4051), ('tear', 4052), ('malta', 4053), ('settings', 4054), ('barren', 4055), ('hockey', 4056), ('defensemen', 4057), ('goalies', 4058), ('diving', 4059), ('net', 4060), ('superficial', 4061), ('stagey', 4062), ('farce', 4063), ('pyromaniac', 4064), ('waylaid', 4065), ('switched', 4066), ('yawn', 4067), ('educational', 4068), ('barney', 4069), ('duper', 4070), ('babie', 4071), ('bop', 4072), ('storm', 4073), ('trooper', 4074), ('potted', 4075), ('plants', 4076), ('shameful', 4077), ('television', 4078), ('writers', 4079), ('smack', 4080), ('bonus', 4081), ('episodes', 4082), ('latched', 4083), ('endearing', 4084), ('sibling', 4085), ('bond', 4086), ('unneeded', 4087), ('controversy', 4088), ('damian', 4089), ('versatile', 4090), ('cutting', 4091), ('passion', 4092), ('ireland', 4093), ('horrified', 4094), ('sympathetic', 4095), ('movements', 4096), ('shelf', 4097), ('elias', 4098), ('koteas', 4099), ('palance', 4100), ('angelina', 4101), ('naked', 4102), ('cameo', 4103), ('sven', 4104), ('ole', 4105), ('thorsen', 4106), ('ebay', 4107), ('poler', 4108), ('fort', 4109), ('steele', 4110), ('unrealistic', 4111), ('bell', 4112), ('higher', 4113), ('sink', 4114), ('slackers', 4115), ('excuses', 4116), ('actions', 4117), ('excerpts', 4118), ('stylized', 4119), ('exemplars', 4120), ('designer', 4121), ('powerful', 4122), ('explorations', 4123), ('politics', 4124), ('rendering', 4125), ('imperial', 4126), ('faultless', 4127), ('underappreciated', 4128), ('keith', 4129), ('bully', 4130), ('teddy', 4131), ('vivid', 4132), ('sean', 4133), ('noble', 4134), ('brigand', 4135), ('candace', 4136), ('bergen', 4137), ('feisty', 4138), ('heroine', 4139), ('wily', 4140), ('hay', 4141), ('kanaly', 4142), ('spiffy', 4143), ('radiant', 4144), ('lieutenant', 4145), ('roosevelt', 4146), ('stick', 4147), ('adventure', 4148), ('ryans', 4149), ('portrayed', 4150), ('schizophrenic', 4151), ('affected', 4152), ('apt', 4153), ('imitation', 4154), ('individual', 4155), ('fashioned', 4156), ('tuneful', 4157), ('rita', 4158), ('hayworth', 4159), ('pedestal', 4160), ('exploit', 4161), ('financial', 4162), ('gain', 4163), ('linear', 4164), ('narration', 4165), ('flashbacks', 4166), ('articulated', 4167), ('monica', 4168), ('bellucci', 4169), ('commentary', 4170), ('timers', 4171), ('laughs', 4172), ('northern', 4173), ('community', 4174), ('represents', 4175), ('vivian', 4176), ('schilling', 4177), ('theaters', 4178), ('screamy', 4179), ('masculine', 4180), ('casted', 4181), ('throwback', 4182), ('student', 4183), ('experiences', 4184), ('abroad', 4185), ('interacting', 4186), ('nationalities', 4187), ('slightly', 4188), ('ticker', 4189), ('buildings', 4190), ('locations', 4191), ('hummh', 4192), ('yelps', 4193), ('hes', 4194), ('funniest', 4195), ('curtain', 4196), ('ive', 4197), ('edition', 4198), ('lid', 4199), ('romantic', 4200), ('laughed', 4201), ('chosen', 4202), ('tortured', 4203), ('blatant', 4204), ('propaganda', 4205), ('hatred', 4206), ('admitted', 4207), ('school', 4208), ('admins', 4209), ('thunderbirds', 4210), ('motion', 4211), ('needlessly', 4212), ('repeats', 4213), ('backed', 4214), ('vehicles', 4215), ('flakes', 4216), ('bordered', 4217), ('stupidity', 4218), ('filmmaker', 4219), ('nor', 4220), ('hide', 4221), ('monumental', 4222), ('halfway', 4223), ('embarrassed', 4224), ('howell', 4225), ('bag', 4226), ('stephen', 4227), ('mchattie', 4228), ('lance', 4229), ('hendrikson', 4230), ('raging', 4231), ('cheekbones', 4232), ('professionals', 4233), ('debbie', 4234), ('rochon', 4235), ('contributory', 4236), ('former', 4237), ('chimp', 4238), ('tolerable', 4239), ('oy', 4240), ('vey', 4241), ('simplifying', 4242), ('brevity', 4243), ('fulfilling', 4244), ('amusing', 4245), ('convoluted', 4246), ('convince', 4247), ('questioning', 4248), ('bela', 4249), ('lugosi', 4250), ('extraneous', 4251), ('intoning', 4252), ('decidely', 4253), ('universal', 4254), ('armand', 4255), ('assante', 4256), ('tying', 4257), ('comprehensible', 4258), ('hang', 4259), ('camp', 4260), ('expecting', 4261), ('iq', 4262), ('mollusk', 4263), ('loosely', 4264), ('string', 4265), ('lower', 4266), ('scripts', 4267), ('victor', 4268), ('mclaglen', 4269), ('donlevy', 4270), ('president', 4271), ('u', 4272), ('unmoving', 4273), ('producer', 4274), ('gifted', 4275), ('cheerless', 4276), ('heist', 4277), ('characterisation', 4278), ('underbite', 4279), ('stoic', 4280), ('emoting', 4281), ('yun', 4282), ('tomorrow', 4283), ('abandoned', 4284), ('factory', 4285), ('executed', 4286), ('flying', 4287), ('judo', 4288), ('la', 4289), ('woo', 4290), ('squibs', 4291), ('derivative', 4292), ('hopeless', 4293), ('uneasy', 4294), ('composed', 4295), ('elderly', 4296), ('babbling', 4297), ('overwrought', 4298), ('pseudo', 4299), ('satanic', 4300), ('gibberish', 4301), ('corny', 4302), ('teen', 4303), ('goth', 4304), ('blush', 4305), ('olde', 4306), ('latin', 4307), ('sloppy', 4308), ('underacting', 4309), ('competent', 4310), ('jerry', 4311), ('falwell', 4312), ('starring', 4313), ('jaclyn', 4314), ('smith', 4315), ('lifetime', 4316), ('sells', 4317), ('assaulted', 4318), ('strident', 4319), ('cords', 4320), ('blare', 4321), ('pap', 4322), ('screened', 4323), ('punish', 4324), ('unemployed', 4325), ('understatement', 4326), ('universe', 4327), ('team', 4328), ('trond', 4329), ('fausa', 4330), ('aurvåg', 4331), ('bothersome', 4332), ('comment', 4333), ('move', 4334), ('initially', 4335), ('local', 4336), ('sites', 4337), ('buffalo', 4338), ('intrigued', 4339), ('applauded', 4340), ('lilt', 4341), ('duris', 4342), ('views', 4343), ('barcelona', 4344), ('famed', 4345), ('gaudi', 4346), ('towers', 4347), ('despised', 4348), ('rough', 4349), ('draft', 4350), ('shooting', 4351), ('completed', 4352), ('personalities', 4353), ('twists', 4354), ('occur', 4355), ('irritating', 4356), ('indescribably', 4357), ('idiotic', 4358), ('cheesiness', 4359), ('unethical', 4360), ('nc', 4361), ('zillion', 4362), ('washing', 4363), ('twirling', 4364), ('grade', 4365), ('road', 4366), ('silly', 4367), ('unmitigated', 4368), ('blandly', 4369), ('edward', 4370), ('chodorov', 4371), ('negulesco', 4372), ('widmark', 4373), ('unintentionally', 4374), ('comical', 4375), ('marbles', 4376), ('marred', 4377), ('constant', 4378), ('exteriors', 4379), ('prompted', 4380), ('aged', 4381), ('upper', 4382), ('uptight', 4383), ('mistakes', 4384), ('jokes', 4385), ('offend', 4386), ('littered', 4387), ('overt', 4388), ('slurs', 4389), ('members', 4390), ('whites', 4391), ('depicted', 4392), ('morons', 4393), ('boobs', 4394), ('lets', 4395), ('destroy', 4396), ('latifa', 4397), ('wouldnt', 4398), ('steamboat', 4399), ('willie', 4400), ('amazingly', 4401), ('plane', 4402), ('tons', 4403), ('granted', 4404), ('timeless', 4405), ('straw', 4406), ('cruel', 4407), ('bipolarity', 4408), ('thug', 4409), ('luv', 4410), ('diaper', 4411), ('commercial', 4412), ('awards', 4413), ('accolades', 4414), ('body', 4415), ('garfield', 4416), ('ann', 4417), ('revere', 4418), ('lilli', 4419), ('plmer', 4420), ('william', 4421), ('conrad', 4422), ('lee', 4423), ('cinematographers', 4424), ('wong', 4425), ('howe', 4426), ('qualities', 4427), ('thomerson', 4428), ('problems\\x97the', 4429), ('professor', 4430), ('established', 4431), ('students', 4432), ('necklace', 4433), ('containing', 4434), ('meteorite', 4435), ('matthews', 4436), ('wrote', 4437), ('grim', 4438), ('aspects', 4439), ('gore', 4440), ('convention', 4441), ('cg', 4442), ('slideshow', 4443), ('explosion', 4444), ('tanks', 4445), ('okay', 4446), ('critic', 4447), ('creature', 4448), ('ta', 4449), ('slimy', 4450), ('drooling', 4451), ('breeders', 4452), ('ebola', 4453), ('virus', 4454), ('comedic', 4455), ('timing', 4456), ('debits', 4457), ('popcorn', 4458), ('borders', 4459), ('lewis', 4460), ('considerable', 4461), ('incendiary', 4462), ('unrestrained', 4463), ('sole', 4464), ('bright', 4465), ('superbad', 4466), ('interim', 4467), ('originality', 4468), ('freshness', 4469), ('offer', 4470), ('evidently', 4471), ('reflected', 4472), ('borrowed', 4473), ('filmiing', 4474), ('expansive', 4475), ('convey', 4476), ('broad', 4477), ('sweep', 4478), ('landscapes', 4479), ('trashy', 4480), ('precisely', 4481), ('proudly', 4482), ('classical', 4483), ('wb', 4484), ('toons', 4485), ('delivered', 4486), ('underrated', 4487), ('murky', 4488), ('related', 4489), ('sitcoms', 4490), ('oriented', 4491), ('teenagers', 4492), ('peculiarity', 4493), ('excessively', 4494), ('phony', 4495), ('contrived', 4496), ('um', 4497), ('perabo', 4498), ('foolish', 4499), ('accents', 4500), ('hypocrisy', 4501), ('rubbish', 4502), ('researched', 4503), ('pitch', 4504), ('omit', 4505), ('instant', 4506), ('catchy', 4507), ('credits', 4508), ('simmering', 4509), ('boiling', 4510), ('warts', 4511), ('poet', 4512), ('bohemian', 4513), ('wartime', 4514), ('bombardments', 4515), ('london', 4516), ('outward', 4517), ('tranquillity', 4518), ('welsh', 4519), ('coastal', 4520), ('retreat', 4521), ('borderlines', 4522), ('friendship', 4523), ('lust', 4524), ('concerns', 4525), ('jealousy', 4526), ('rivalry', 4527), ('cowardice', 4528), ('egotism', 4529), ('heroism', 4530), ('sacrifice', 4531), ('suggests', 4532), ('tensions', 4533), ('inappropriate', 4534), ('smiling', 4535), ('keira', 4536), ('knightley', 4537), ('prone', 4538), ('inventive', 4539), ('pointillistic', 4540), ('behold', 4541), ('continuously', 4542), ('bertolucci', 4543), ('sidelined', 4544), ('inexplicable', 4545), ('crew', 4546), ('regardless', 4547), ('custer', 4548), ('alongside', 4549), ('olivia', 4550), ('havilland', 4551), ('dads', 4552), ('grew', 4553), ('realised', 4554), ('jim', 4555), ('connor', 4556), ('energetic', 4557), ('george', 4558), ('hosting', 4559), ('overs', 4560), ('monotonous', 4561), ('shenanigans', 4562), ('spy', 4563), ('kidnapped', 4564), ('foreign', 4565), ('random', 4566), ('taxidermists', 4567), ('stewart', 4568), ('hero', 4569), ('rips', 4570), ('climax', 4571), ('embassy', 4572), ('brooding', 4573), ('menace', 4574), ('nevertheless', 4575), ('stable', 4576), ('producers', 4577), ('scot', 4578), ('vandiver', 4579), ('nonetheless', 4580), ('campy', 4581), ('bendingly', 4582), ('scares', 4583), ('medical', 4584), ('terminology', 4585), ('iffy', 4586), ('insulin', 4587), ('dependant', 4588), ('diabetic', 4589), ('complexity', 4590), ('task', 4591), ('challenges', 4592), ('facing', 4593), ('attempted', 4594), ('truth', 4595), ('reconciliation', 4596), ('magnificent', 4597), ('woven', 4598), ('splendid', 4599), ('view', 4600), ('subtitles', 4601), ('aversion', 4602), ('therapy', 4603), ('jason', 4604), ('moved', 4605), ('tears', 4606), ('monolog', 4607), ('candle', 4608), ('sphere', 4609), ('helen', 4610), ('baxendale', 4611), ('credible', 4612), ('cheerfull', 4613), ('naughty', 4614), ('deadly', 4615), ('shakespears', 4616), ('lyrics', 4617), ('dr', 4618), ('seuss', 4619), ('brilliantly', 4620), ('animated', 4621), ('upa', 4622), ('finest', 4623), ('academy', 4624), ('award', 4625), ('integral', 4626), ('helping', 4627), ('bailey', 4628), ('eiko', 4629), ('ishioka', 4630), ('dracula', 4631), ('format', 4632), ('baaaaaad', 4633), ('collect', 4634), ('extant', 4635), ('austen', 4636), ('consolations', 4637), ('speaking', 4638), ('unbearably', 4639), ('kitchy', 4640), ('raw', 4641), ('sublimely', 4642), ('theatrical', 4643), ('terror', 4644), ('lie', 4645), ('escalating', 4646), ('monstrous', 4647), ('consequences', 4648), ('mesmerising', 4649), ('fumbling', 4650), ('hankies', 4651), ('faces', 4652), ('males', 4653), ('females', 4654), ('alike', 4655), ('julian', 4656), ('fellowes', 4657), ('triumphed', 4658), ('national', 4659), ('treasure', 4660), ('phrase', 4661), ('owed', 4662), ('kris', 4663), ('kristoffersen', 4664), ('marriage', 4665), ('errors', 4666), ('commented', 4667), ('cars', 4668), ('garage', 4669), ('facial', 4670), ('configuration', 4671), ('inspiration', 4672), ('overcome', 4673), ('rejection', 4674), ('punishment', 4675), ('park', 4676), ('southern', 4677), ('california', 4678), ('desert', 4679), ('patent', 4680), ('accessible', 4681), ('miserable', 4682), ('angela', 4683), ('bennett', 4684), ('pretext', 4685), ('repeating', 4686), ('robotic', 4687), ('moves', 4688), ('delete', 4689), ('uncalled', 4690), ('geek', 4691), ('bible', 4692), ('thumper', 4693), ('pulling', 4694), ('equivalent', 4695), ('dickens', 4696), ('carol', 4697), ('sensibility', 4698), ('success', 4699), ('depends', 4700), ('sydney', 4701), ('greenstreet', 4702), ('yardley', 4703), ('pleasing', 4704), ('rpg', 4705), ('respecting', 4706), ('rpger', 4707), ('youtube', 4708), ('lassie', 4709), ('painfully', 4710), ('dreary', 4711), ('waster', 4712), ('becomes', 4713), ('forgettable', 4714), ('shell', 4715), ('barking', 4716), ('transfers', 4717), ('relaxing', 4718), ('title', 4719), ('handles', 4720), ('dignity', 4721), ('shocking', 4722), ('memorized', 4723), ('fishnet', 4724), ('stockings', 4725), ('astonishingly', 4726), ('ham', 4727), ('fisted', 4728), ('irons', 4729), ('unconditional', 4730), ('ordeal', 4731), ('progresses', 4732), ('anguish', 4733), ('pans', 4734), ('reviewers', 4735), ('interview', 4736), ('vampire', 4737), ('lestat', 4738), ('stuart', 4739), ('townsend', 4740), ('cruise', 4741), ('aailiyah', 4742), ('akasha', 4743), ('entrance', 4744), ('sensitivities', 4745), ('treatments', 4746), ('details', 4747), ('dysfunction', 4748), ('football', 4749), ('perplexing', 4750), ('skilled', 4751), ('meredith', 4752), ('maker', 4753), ('worthy', 4754), ('syrupy', 4755), ('nine', 4756), ('goremeister', 4757), ('lucio', 4758), ('thrillers', 4759), ('standout', 4760), ('unpleasant', 4761), ('technically', 4762), ('riz', 4763), ('ortolani', 4764), ('recurring', 4765), ('unaccompanied', 4766), ('vocal', 4767), ('distant', 4768), ('dustin', 4769), ('hoffman', 4770), ('involving', 4771), ('issue', 4772), ('tired', 4773), ('ps', 4774), ('jennifer', 4775), ('rubin', 4776), ('harris', 4777), ('changes', 4778), ('nervous', 4779), ('starlet', 4780), ('coach', 4781), ('snow', 4782), ('ultra', 4783), ('exciting', 4784), ('uniqueness', 4785), ('foreigner', 4786), ('stranger', 4787), ('considers', 4788), ('ussr', 4789), ('scream', 4790), ('scare', 4791), ('indictment', 4792), ('justice', 4793), ('system', 4794), ('fundamental', 4795), ('legal', 4796), ('guilt', 4797), ('innocence', 4798), ('routine', 4799), ('constantine', 4800), ('intensity', 4801), ('motivations', 4802), ('inspiring', 4803), ('stinker', 4804), ('direct', 4805), ('release', 4806), ('trek', 4807), ('frontier', 4808), ('includes', 4809), ('shatner', 4810), ('nimoy', 4811), ('washed', 4812), ('tacky', 4813), ('spock', 4814), ('rescue', 4815), ('kirk', 4816), ('jet', 4817), ('mountain', 4818), ('humor', 4819), ('dosen', 4820), ('involves', 4821), ('vulcan', 4822), ('stealing', 4823), ('enterprise', 4824), ('uhura', 4825), ('distract', 4826), ('guards', 4827), ('subjects', 4828), ('jay', 4829), ('adams', 4830), ('unfortunate', 4831), ('subject', 4832), ('evokes', 4833), ('grainy', 4834), ('enhanced', 4835), ('surprises', 4836), ('achille', 4837), ('philippa', 4838), ('sing', 4839), ('giovanni', 4840), ('describes', 4841), ('layers', 4842), ('jutland', 4843), ('instruments', 4844), ('general', 4845), ('loewenhielm', 4846), ('partaking', 4847), ('cailles', 4848), ('en', 4849), ('sarcophage', 4850), ('savor', 4851), ('impression', 4852), ('generates', 4853), ('austere', 4854), ('backdrop', 4855), ('wanting', 4856), ('notch', 4857), ('fleshed', 4858), ('grimes', 4859), ('blake', 4860), ('scripted', 4861), ('deadpan', 4862), ('angus', 4863), ('scrimm', 4864), ('gently', 4865), ('menacing', 4866), ('violin', 4867), ('anatomist', 4868), ('entertained', 4869), ('phantasm', 4870), ('collective', 4871), ('concerning', 4872), ('kudos', 4873), ('juano', 4874), ('hernandez', 4875), ('supporting', 4876), ('murdering', 4877), ('trumbull', 4878), ('evinced', 4879), ('faithful', 4880), ('joyce', 4881), ('acclaimed', 4882), ('novella', 4883), ('feelings', 4884), ('gabriel', 4885), ('intangibles', 4886), ('leap', 4887), ('viewer', 4888), ('grasp', 4889), ('wondered', 4890), ('shortlist', 4891), ('emperor', 4892), ('surely', 4893), ('coherent', 4894), ('force', 4895), ('obliged', 4896), ('creative', 4897), ('subplots', 4898), ('native', 4899), ('brainsucking', 4900), ('telly', 4901), ('savalas', 4902), ('boyle', 4903), ('sheer', 4904), ('tedium', 4905), ('melodrama', 4906), ('sinking', 4907), ('decisions', 4908), ('establish', 4909), ('follows', 4910), ('band', 4911), ('latter', 4912), ('mansonites', 4913), ('reporter', 4914), ('anniversary', 4915), ('killings', 4916), ('indication', 4917), ('meld', 4918), ('volatile', 4919), ('temperaments', 4920), ('seamless', 4921), ('union', 4922), ('creativity', 4923), ('powerhouse', 4924), ('fascination', 4925), ('celebrity', 4926), ('interpretations', 4927), ('fame', 4928), ('forgotten', 4929), ('kevin', 4930), ('spacey', 4931), ('verbal', 4932), ('tsunami', 4933), ('buddy', 4934), ('ackerman', 4935), ('scripting', 4936), ('unmatched', 4937), ('ages', 4938), ('younger', 4939), ('galley', 4940), ('pm', 4941), ('8pm', 4942), ('forwarded', 4943), ('horrendously', 4944), ('captain', 4945), ('howdy', 4946), ('semi', 4947), ('truck', 4948), ('linda', 4949), ('cardellini', 4950), ('poised', 4951), ('dee', 4952), ('snider', 4953), ('villains', 4954), ('sophisticated', 4955), ('miserably', 4956), ('unoriginal', 4957), ('cinematic', 4958), ('captured', 4959), ('celluloid', 4960), ('supernatural', 4961), ('thread', 4962), ('leni', 4963), ('parker', 4964), ('anita', 4965), ('laselva', 4966), ('taelons', 4967), ('idealogical', 4968), ('centers', 4969), ('puppet', 4970), ('flicks', 4971), ('explains', 4972), ('sinister', 4973), ('origins', 4974), ('f', 4975), ('x', 4976), ('insomniacs', 4977), ('heartwarming', 4978), ('chasing', 4979), ('nurse', 4980), ('unpredictability', 4981), ('labute', 4982), ('brutal', 4983), ('violence', 4984), ('seperate', 4985), ('secondary', 4986), ('incomprehensible', 4987), ('relation', 4988), ('primary', 4989), ('mystifying', 4990), ('shelves', 4991), ('warn', 4992), ('dumbest', 4993), ('hbo', 4994), ('cox', 4995), ('win', 4996), ('agree', 4997), ('jessica', 4998), ('dimensional', 4999), ('elaborately', 5000), ('aesthetically', 5001), ('sculpture', 5002), ('soap', 5003), ('operas', 5004), ('pray', 5005), ('charismatic', 5006), ('paolo', 5007), ('sorrentino', 5008), ('tony', 5009), ('unforgettable', 5010), ('titta', 5011), ('di', 5012), ('girolamo', 5013), ('vision', 5014), ('debut', 5015), ('charlie', 5016), ('kathy', 5017), ('bates', 5018), ('desperation', 5019), ('escapism', 5020), ('variation', 5021), ('fields', 5022), ('condescends', 5023), ('arts', 5024), ('daughters', 5025), ('paint', 5026), ('photograph', 5027), ('poignant', 5028), ('alert', 5029), ('decipher', 5030), ('meanings', 5031), ('matrix', 5032), ('sequels', 5033), ('mindblowing', 5034), ('dream', 5035), ('rickman', 5036), ('stowe', 5037), ('hilt', 5038), ('childrens', 5039), ('subversive', 5040), ('tract', 5041), ('gloriously', 5042), ('accurate', 5043), ('raver', 5044), ('idyllic', 5045), ('downs', 5046), ('groove', 5047), ('antithesis', 5048), ('traffic', 5049), ('crowe', 5050), ('picked', 5051), ('government', 5052), ('scientist', 5053), ('argued', 5054), ('humanity', 5055), ('dwight', 5056), ('schultz', 5057), ('sincere', 5058), ('critical', 5059), ('gorman', 5060), ('bechard', 5061), ('homework', 5062), ('appropriate', 5063), ('captures', 5064), ('essence', 5065), ('track', 5066), ('commands', 5067), ('contributing', 5068), ('threshold', 5069), ('hayao', 5070), ('eighth', 5071), ('ghibili', 5072), ('gake', 5073), ('ue', 5074), ('cliff', 5075), ('dominated', 5076), ('disney', 5077), ('pixar', 5078), ('cgi', 5079), ('comforting', 5080), ('relying', 5081), ('drawn', 5082), ('enchanting', 5083), ('remarkable', 5084), ('crayon', 5085), ('pencil', 5086), ('drawings', 5087), ('colorful', 5088), ('fanciful', 5089), ('drift', 5090), ('surf', 5091), ('impact', 5092), ('armageddon', 5093), ('choked', 5094), ('vessel', 5095), ('taken', 5096), ('mighty', 5097), ('frost', 5098), ('bonuses', 5099), ('fest', 5100), ('spoiled', 5101), ('brat', 5102), ('babysitting', 5103), ('sundays', 5104), ('march', 5105), ('judith', 5106), ('cutie', 5107), ('confidence', 5108), ('riot', 5109), ('hugo', 5110), ('weaving', 5111), ('obsessed', 5112), ('gay', 5113), ('estate', 5114), ('salesman', 5115), ('clients', 5116), ('houses', 5117), ('trysts', 5118), ('flaming', 5119), ('darren', 5120), ('hollander', 5121), ('flowed', 5122), ('bonding', 5123), ('hoot', 5124), ('n', 5125), ('jessice', 5126), ('clothes', 5127), ('virtue', 5128), ('regrettable', 5129), ('exceptionally', 5130)])\n"
     ]
    }
   ],
   "source": [
    "print(\"vocab size is\",vocab_size)\n",
    "\n",
    "#check the tokenizer words\n",
    "num=1\n",
    "print(sentences[num])\n",
    "#encoded_sentence=tokenizer.encode(sentences[num])\n",
    "\n",
    "encoded_sentence=tokenizer.texts_to_sequences(sentences[num])\n",
    "print(encoded_sentence)\n",
    "print(tokenizer.word_index.items())"
   ]
  },
  {
   "cell_type": "code",
   "execution_count": 17,
   "metadata": {},
   "outputs": [
    {
     "name": "stdout",
     "output_type": "stream",
     "text": [
      "['good', 'case', ',', 'excellent', 'value', '.']\n",
      "[['good'], ['case'], [], ['excellent'], ['value'], []]\n"
     ]
    }
   ],
   "source": [
    "#for i in encoded_sentence:\n",
    "#    print(tokenizer.decode([i]))\n",
    "reverse_word_map = dict(map(reversed, tokenizer.word_index.items()))\n",
    "def sequence_to_text(list_of_indices):\n",
    "    # Looking up words in dictionary\n",
    "    words = [reverse_word_map.get(letter) for letter in list_of_indices]\n",
    "    return(words)\n",
    "print(sentences[num])\n",
    "my_texts = list(map(sequence_to_text, encoded_sentence))\n",
    "print(my_texts)"
   ]
  },
  {
   "cell_type": "code",
   "execution_count": 18,
   "metadata": {},
   "outputs": [],
   "source": [
    "for i,sent in enumerate(sentences):\n",
    "    sentences[i]=sum(tokenizer.texts_to_sequences(sent), [])"
   ]
  },
  {
   "cell_type": "code",
   "execution_count": 19,
   "metadata": {},
   "outputs": [
    {
     "name": "stdout",
     "output_type": "stream",
     "text": [
      "[37, 52, 8, 71, 130, 19, 85, 10, 390, 7, 18, 78, 18, 2, 204, 595, 5, 90, 76, 6, 2262]\n",
      "[28, 173, 106, 546]\n",
      "[31, 19, 2, 1105]\n",
      "[2263, 10, 259, 19, 1106, 1107, 87, 88, 17, 17, 167, 1496, 321]\n",
      "[2, 893, 8, 31]\n",
      "[5, 33, 10, 2264, 2, 390, 10, 102, 7, 10, 299, 81, 159, 10, 102, 496, 391]\n",
      "[59, 29, 33, 392, 1497, 72, 392, 2265, 1108, 160, 1109, 2, 453, 12, 894, 345, 12, 131, 42, 76, 42]\n",
      "[59, 29, 35, 762, 763, 29, 260, 33, 11]\n",
      "[1110, 10, 150, 5, 454, 26, 175]\n",
      "[92, 6, 168, 12, 175, 4, 53]\n"
     ]
    }
   ],
   "source": [
    "#print some encoded text\n",
    "for i in range(10):\n",
    "    print(sentences[i],end=\"\\n\")\n"
   ]
  },
  {
   "cell_type": "code",
   "execution_count": 20,
   "metadata": {},
   "outputs": [],
   "source": [
    "import numpy as np\n",
    "max_length =50\n",
    "trunc_type='post'\n",
    "padding_type='post'\n",
    "\n",
    "#pad all Sequence\n",
    "\n",
    "sequence_added=pad_sequences(sentences,maxlen=max_length,padding =padding_type,truncating=trunc_type)"
   ]
  },
  {
   "cell_type": "code",
   "execution_count": 21,
   "metadata": {},
   "outputs": [],
   "source": [
    "#Separate the separate and Sentences on training and test data sets\n",
    "\n",
    "training_size=int(len(sentences)*0.8)\n",
    "train_seq=sequence_added[:training_size]\n",
    "train_labels=label[:training_size]\n",
    "\n",
    "test_seq=sequence_added[training_size:]\n",
    "test_labels=label[training_size:]\n",
    "\n",
    "train_labels=np.array(train_labels)\n",
    "test_labels=np.array(test_labels)"
   ]
  },
  {
   "cell_type": "markdown",
   "metadata": {},
   "source": [
    "### Loading GLove Embeddings"
   ]
  },
  {
   "cell_type": "code",
   "execution_count": 22,
   "metadata": {},
   "outputs": [],
   "source": [
    "def load_glove(word_index):\n",
    "    EMBEDDING_FILE = '/media/ghost/New Volume/dataset/tweet-sentiment-extraction/glove.840B.300d.txt'\n",
    "    def get_coefs(word,*arr): return word, np.asarray(arr, dtype='float32')[:300]\n",
    "    embeddings_index = dict(get_coefs(*o.split(\" \")) for o in open(EMBEDDING_FILE))\n",
    "    \n",
    "    all_embs = np.stack(embeddings_index.values())\n",
    "    emb_mean,emb_std = -0.005838499,0.48782197\n",
    "    embed_size = all_embs.shape[1]\n",
    "\n",
    "    # word_index = tokenizer.word_index\n",
    "    nb_words = min(max_features, len(word_index))\n",
    "    embedding_matrix = np.random.normal(emb_mean, emb_std, (120000, 300))\n",
    "    for word, i in word_index.items():\n",
    "        if i >= max_features: continue\n",
    "        embedding_vector = embeddings_index.get(word)\n",
    "        #ALLmight\n",
    "        if embedding_vector is not None: \n",
    "            embedding_matrix[i] = embedding_vector\n",
    "        else:\n",
    "            embedding_vector = embeddings_index.get(word.capitalize())\n",
    "            if embedding_vector is not None: \n",
    "                embedding_matrix[i] = embedding_vector\n",
    "    return embedding_matrix "
   ]
  },
  {
   "cell_type": "code",
   "execution_count": 23,
   "metadata": {},
   "outputs": [
    {
     "name": "stdout",
     "output_type": "stream",
     "text": [
      "Total no of Training Sequence are 2198\n",
      "Total no of Test Sequence are 550\n"
     ]
    },
    {
     "name": "stderr",
     "output_type": "stream",
     "text": [
      "/media/ghost/71f17ea4-f157-44e3-8ec8-4d543ed39935/home/gh05t/lib/python3.7/site-packages/IPython/core/interactiveshell.py:3325: FutureWarning: arrays to stack must be passed as a \"sequence\" type such as list or tuple. Support for non-sequence iterables such as generators is deprecated as of NumPy 1.16 and will raise an error in the future.\n",
      "  exec(code_obj, self.user_global_ns, self.user_ns)\n"
     ]
    }
   ],
   "source": [
    "print(\"Total no of Training Sequence are\",len(train_seq))\n",
    "print(\"Total no of Test Sequence are\",len(test_seq))\n",
    "from keras.models import Sequential\n",
    "embedding_dim = 300\n",
    "max_features = 5130\n",
    "embedding_matrix = load_glove(tokenizer.word_index)"
   ]
  },
  {
   "cell_type": "markdown",
   "metadata": {},
   "source": [
    "### Model Architechture and Training"
   ]
  },
  {
   "cell_type": "code",
   "execution_count": 24,
   "metadata": {},
   "outputs": [
    {
     "name": "stdout",
     "output_type": "stream",
     "text": [
      "(None, 50, 128)\n"
     ]
    }
   ],
   "source": [
    "inp = Input(shape=(max_length,))\n",
    "x = Embedding(120000,embedding_dim, weights=[embedding_matrix],input_length=max_length)(inp)\n",
    "x = Bidirectional(LSTM(128,return_sequences=True))(x)\n",
    "x = Bidirectional(LSTM(64,return_sequences=True))(x)\n",
    "x = AttentionWithContext()(x)\n",
    "x = Dense(64, activation=\"relu\")(x)\n",
    "x = Dense(1, activation=\"sigmoid\")(x)\n",
    "model = tf.keras.Model(inputs=inp, outputs=x)"
   ]
  },
  {
   "cell_type": "code",
   "execution_count": 25,
   "metadata": {},
   "outputs": [
    {
     "name": "stdout",
     "output_type": "stream",
     "text": [
      "Model: \"model\"\n",
      "_________________________________________________________________\n",
      "Layer (type)                 Output Shape              Param #   \n",
      "=================================================================\n",
      "input_1 (InputLayer)         [(None, 50)]              0         \n",
      "_________________________________________________________________\n",
      "embedding (Embedding)        (None, 50, 300)           36000000  \n",
      "_________________________________________________________________\n",
      "bidirectional (Bidirectional (None, 50, 256)           439296    \n",
      "_________________________________________________________________\n",
      "bidirectional_1 (Bidirection (None, 50, 128)           164352    \n",
      "_________________________________________________________________\n",
      "attention_with_context (Atte (None, 128)               16640     \n",
      "_________________________________________________________________\n",
      "dense (Dense)                (None, 64)                8256      \n",
      "_________________________________________________________________\n",
      "dense_1 (Dense)              (None, 1)                 65        \n",
      "=================================================================\n",
      "Total params: 36,628,609\n",
      "Trainable params: 36,628,609\n",
      "Non-trainable params: 0\n",
      "_________________________________________________________________\n"
     ]
    }
   ],
   "source": [
    "#fit a model\n",
    "model.compile(loss=\"binary_crossentropy\",optimizer='adam',metrics=['accuracy'])\n",
    "model.summary()"
   ]
  },
  {
   "cell_type": "code",
   "execution_count": 26,
   "metadata": {},
   "outputs": [],
   "source": [
    "#history=model.fit(train_seq,train_labels,epochs=50,validation_data=(test_seq,test_labels))"
   ]
  },
  {
   "cell_type": "code",
   "execution_count": 27,
   "metadata": {},
   "outputs": [],
   "source": [
    "%matplotlib inline\n",
    "import matplotlib.pyplot as plt\n",
    "model.save_weights('sentiModel.h5')\n",
    "model.load_weights('model.h5')\n",
    "def plot_graphs(history, string):\n",
    "        plt.plot(history.history[string])\n",
    "        plt.plot(history.history['val_'+string])\n",
    "        plt.xlabel(\"Epochs\")\n",
    "        plt.ylabel(string)\n",
    "        plt.legend([string, 'val_'+string])\n",
    "        plt.show()\n",
    "\n",
    "#plot_graphs(history, \"accuracy\")\n",
    "#plot_graphs(history, \"loss\")"
   ]
  },
  {
   "cell_type": "markdown",
   "metadata": {},
   "source": [
    "### Testing [RUN THE CRAWLER NOTEBOOK BEFORE TESTING]"
   ]
  },
  {
   "cell_type": "code",
   "execution_count": 28,
   "metadata": {},
   "outputs": [],
   "source": [
    "def predict_review(model, new_sentences, labels, maxlen=max_length, show_padded_sequence=True ):\n",
    "    # Keep the original sentences so that we can keep using them later\n",
    "    # Create an array to hold the encoded sequences\n",
    "    new_sequences = []\n",
    "\n",
    "    # Convert the new reviews to sequences\n",
    "    for i, frvw in enumerate(new_sentences):\n",
    "        sen = nltk.word_tokenize(frvw)\n",
    "        sen = tokenizer.texts_to_sequences(sen)\n",
    "        sen = sum(sen, [])\n",
    "        new_sequences.append(sen)\n",
    "\n",
    "    trunc_type='post' \n",
    "    padding_type='post'\n",
    "\n",
    "    # Pad all sequences for the new reviews\n",
    "    new_reviews_padded = pad_sequences(new_sequences, maxlen=max_length, \n",
    "                                 padding=padding_type, truncating=trunc_type)             \n",
    "\n",
    "    classes = model.predict(new_reviews_padded)\n",
    "\n",
    "    # The closer the class is to 1, the more positive the review is\n",
    "    for x in range(len(new_sentences)):\n",
    "\n",
    "        # We can see the padded sequence if desired\n",
    "        # Print the sequence\n",
    "        if (show_padded_sequence):\n",
    "              print(new_reviews_padded[x])\n",
    "        labels.append(classes[x])\n",
    "        # Print the review as text\n",
    "        #print(new_sentences[x])\n",
    "        # Print its predicted class\n",
    "        print(classes[x])\n",
    "        print(\"\\n\")"
   ]
  },
  {
   "cell_type": "code",
   "execution_count": null,
   "metadata": {},
   "outputs": [],
   "source": [
    "# Use the model to predict some reviews   \n",
    "fake_reviews = [\"I hate this phone\", \n",
    "                \"Everything was cold\",\n",
    "                \"Everything was hot exactly as I wanted\", \n",
    "                \"Everything was green\", \n",
    "                \"the host seated us immediately\",\n",
    "                \"they gave us free chocolate cake\", \n",
    "                \"we couldn't hear each other talk because of the shouting in the kitchen\"\n",
    "               ]\n",
    "testLabels = []\n",
    "predict_review(model, testLabels, fake_reviews)"
   ]
  },
  {
   "cell_type": "code",
   "execution_count": null,
   "metadata": {},
   "outputs": [],
   "source": [
    "import pandas as pd\n",
    "data = pd.read_csv('output.csv')\n",
    "data\n",
    "data['Article Content'] = data['Article Content'].apply(lambda x: x.lower())\n",
    "\n",
    "# Clean the text\n",
    "data['Article Content'] = data['Article Content'].progress_apply(lambda x: clean_text(x))\n",
    "\n",
    "# Clean numbers\n",
    "data['Article Content'] = data['Article Content'].progress_apply(lambda x: clean_numbers(x))\n",
    "\n",
    "# Clean spellings\n",
    "data['Article Content'] = data['Article Content'].progress_apply(lambda x: replace_typical_misspell(x))\n",
    "#vocab = build_vocab(data['review'])\n",
    "## fill up the missing values\n",
    "data['Article Content']= data['Article Content'].fillna(\"_##_\").values\n",
    "data['Article Content'] = data['Article Content'].progress_apply(lambda x: additionalProcc(x))\n",
    "\n",
    "testSentences = data['Article Content'][9].tolist()"
   ]
  },
  {
   "cell_type": "code",
   "execution_count": null,
   "metadata": {},
   "outputs": [],
   "source": [
    "testSentences"
   ]
  },
  {
   "cell_type": "code",
   "execution_count": null,
   "metadata": {},
   "outputs": [],
   "source": [
    "labels = []"
   ]
  },
  {
   "cell_type": "code",
   "execution_count": null,
   "metadata": {},
   "outputs": [],
   "source": [
    "model.load_weights('sentiModel.h5')"
   ]
  },
  {
   "cell_type": "code",
   "execution_count": null,
   "metadata": {},
   "outputs": [],
   "source": [
    "predict_review(model, testSentences, labels)"
   ]
  },
  {
   "cell_type": "code",
   "execution_count": null,
   "metadata": {},
   "outputs": [],
   "source": [
    "labels"
   ]
  },
  {
   "cell_type": "code",
   "execution_count": null,
   "metadata": {},
   "outputs": [],
   "source": [
    "def Average(lst): \n",
    "    return sum(lst) / len(lst) \n",
    "document_sentiment = Average(labels)\n",
    "print(\"Document Sentiment:\", document_sentiment)"
   ]
  },
  {
   "cell_type": "code",
   "execution_count": null,
   "metadata": {},
   "outputs": [],
   "source": [
    "data[\"labels\"] = labels"
   ]
  },
  {
   "cell_type": "code",
   "execution_count": null,
   "metadata": {},
   "outputs": [],
   "source": [
    "data"
   ]
  },
  {
   "cell_type": "code",
   "execution_count": null,
   "metadata": {},
   "outputs": [],
   "source": [
    "data.to_csv('submit.csv')"
   ]
  }
 ],
 "metadata": {
  "kernelspec": {
   "display_name": "Python 3",
   "language": "python",
   "name": "python3"
  },
  "language_info": {
   "codemirror_mode": {
    "name": "ipython",
    "version": 3
   },
   "file_extension": ".py",
   "mimetype": "text/x-python",
   "name": "python",
   "nbconvert_exporter": "python",
   "pygments_lexer": "ipython3",
   "version": "3.7.3"
  }
 },
 "nbformat": 4,
 "nbformat_minor": 2
}
